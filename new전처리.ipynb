{
  "nbformat": 4,
  "nbformat_minor": 0,
  "metadata": {
    "colab": {
      "provenance": [],
      "authorship_tag": "ABX9TyOGLP+vfcAzkBZ03jEPKGTB",
      "include_colab_link": true
    },
    "kernelspec": {
      "name": "python3",
      "display_name": "Python 3"
    },
    "language_info": {
      "name": "python"
    }
  },
  "cells": [
    {
      "cell_type": "markdown",
      "metadata": {
        "id": "view-in-github",
        "colab_type": "text"
      },
      "source": [
        "<a href=\"https://colab.research.google.com/github/ManG0A2/MLP-class/blob/main/%08new%EC%A0%84%EC%B2%98%EB%A6%AC.ipynb\" target=\"_parent\"><img src=\"https://colab.research.google.com/assets/colab-badge.svg\" alt=\"Open In Colab\"/></a>"
      ]
    },
    {
      "cell_type": "code",
      "execution_count": null,
      "metadata": {
        "colab": {
          "base_uri": "https://localhost:8080/"
        },
        "id": "x3jChwcqyCLB",
        "outputId": "a753924c-8bb7-480f-ceb7-95c9d906c179"
      },
      "outputs": [
        {
          "output_type": "stream",
          "name": "stdout",
          "text": [
            "성별:male , 키:1.746 , 몸무게:68.9 , 나이:24 , 신체활동수준:2(1:비활동적, 2:저활동적, 3:활동적, 4:매우활동적)\n",
            "ERR: 2695.84\n",
            "탄수화물(g): 370.68 ~ 438.07\n",
            "지방(g): 44.93 ~ 89.86\n",
            "단백질(g): 47.18 ~ 134.79\n",
            "당류(g): 67.4\n",
            "나트륨(mg): 2400\n",
            "콜레스테롤(mg): 300\n",
            "포화지방(g): 22.47\n",
            "트랜스지방(g): 3.0\n"
          ]
        }
      ],
      "source": [
        "#ERR 계산\n",
        "def calculate_err(gender, age, weight, height, activity_factor):\n",
        "\n",
        "    if gender.lower() == 'male':\n",
        "        if activity_factor == 1:\n",
        "            PA = 1.0\n",
        "        elif activity_factor == 2:\n",
        "            PA = 1.11\n",
        "        elif activity_factor == 3:\n",
        "            PA = 1.25\n",
        "        elif activity_factor == 4:\n",
        "            PA = 1.48\n",
        "        else:\n",
        "            raise ValueError(\"Invalid activity factor for male. Please use values 1, 2, 3, or 4.\")\n",
        "\n",
        "        err = round(662 - 9.53 * age + PA * (15.91 * weight + 539.6 * height), 2)\n",
        "\n",
        "    elif gender.lower() == 'female':\n",
        "        if activity_factor == 1:\n",
        "            PA = 1.0\n",
        "        elif activity_factor == 2:\n",
        "            PA = 1.12\n",
        "        elif activity_factor == 3:\n",
        "            PA = 1.27\n",
        "        elif activity_factor == 4:\n",
        "            PA = 1.45\n",
        "        else:\n",
        "            raise ValueError(\"Invalid activity factor for female. Please use values 1, 2, 3, or 4.\")\n",
        "\n",
        "        err = round(354 - 6.91 * age + PA * (9.36 * weight + 726 * height),2)\n",
        "    else:\n",
        "        raise ValueError(\"Invalid gender. Please enter 'male' or 'female'.\")\n",
        "\n",
        "    return err\n",
        "\n",
        "#다른 영양성분 계산\n",
        "def calculate_nutrients(err):\n",
        "\n",
        "    carb_min = round(0.55 * err / 4, 2)\n",
        "    carb_max = round(0.65 * err / 4, 2)\n",
        "\n",
        "    fat_min = round(0.15 * err / 9, 2)\n",
        "    fat_max = round(0.3 * err / 9, 2)\n",
        "\n",
        "    pro_min = round(0.07 * err / 4 ,2)\n",
        "    pro_max = round(0.2 * err / 4 ,2)\n",
        "\n",
        "    sugar_max = round(0.1 * err /4 ,2)\n",
        "\n",
        "    nat_max = 2400\n",
        "\n",
        "    col_max = 300\n",
        "\n",
        "    satfat_max = round(0.075 * err /9 ,2)\n",
        "\n",
        "    transfat_max = round(0.01 * err /9 ,2)\n",
        "\n",
        "    return carb_min, carb_max, fat_min, fat_max, pro_min, pro_max, sugar_max, nat_max, col_max, satfat_max, transfat_max\n",
        "\n",
        "# 예시 사용법\n",
        "gender = 'male'\n",
        "age = 24\n",
        "weight = 68.9\n",
        "height = 1.746\n",
        "activity_factor = 2\n",
        "\n",
        "err_result = calculate_err(gender, age, weight, height, activity_factor)\n",
        "carb_min, carb_max, fat_min, fat_max, pro_min, pro_max, sugar_max, nat_max, col_max, satfat_max, transfat_max = calculate_nutrients(err_result)\n",
        "\n",
        "print(f\"성별:{gender} , 키:{height} , 몸무게:{weight} , 나이:{age} , 신체활동수준:{activity_factor}(1:비활동적, 2:저활동적, 3:활동적, 4:매우활동적)\")\n",
        "print(f\"ERR: {err_result}\")\n",
        "print(f\"탄수화물(g): {carb_min} ~ {carb_max}\")\n",
        "print(f\"지방(g): {fat_min} ~ {fat_max}\")\n",
        "print(f\"단백질(g): {pro_min} ~ {pro_max}\")\n",
        "print(f\"당류(g): {sugar_max}\")\n",
        "print(f\"나트륨(mg): {nat_max}\")\n",
        "print(f\"콜레스테롤(mg): {col_max}\")\n",
        "print(f\"포화지방(g): {satfat_max}\")\n",
        "print(f\"트랜스지방(g): {transfat_max}\")\n",
        "\n",
        "#섭취해야하는 남은 영양성분\n",
        "\n"
      ]
    },
    {
      "cell_type": "code",
      "source": [
        "from google.colab import drive\n",
        "drive.mount('/content/drive')"
      ],
      "metadata": {
        "colab": {
          "base_uri": "https://localhost:8080/"
        },
        "id": "9ZXK_3A74eZi",
        "outputId": "f5241e6f-5640-446f-db0d-e7de6d5925a0"
      },
      "execution_count": null,
      "outputs": [
        {
          "output_type": "stream",
          "name": "stdout",
          "text": [
            "Mounted at /content/drive\n"
          ]
        }
      ]
    },
    {
      "cell_type": "code",
      "source": [
        "import pandas as pd\n",
        "\n",
        "# CSV 파일의 경로를 지정합니다.\n",
        "file_path = '/content/drive/MyDrive/food_db_result_final.csv'\n",
        "\n",
        "# CSV 파일을 불러옵니다.\n",
        "df = pd.read_csv(file_path)\n",
        "\n",
        "# 데이터프레임을 출력합니다.\n",
        "df"
      ],
      "metadata": {
        "colab": {
          "base_uri": "https://localhost:8080/",
          "height": 756
        },
        "id": "AdgXJc8C6_yx",
        "outputId": "ca5da5e3-7274-4e3a-e8a8-ef0acfc3863a"
      },
      "execution_count": null,
      "outputs": [
        {
          "output_type": "execute_result",
          "data": {
            "text/plain": [
              "         code       name mainFoodType detailedFoodType  servingSize  calorie  \\\n",
              "0     D018000        가래떡      곡류 및 서류               떡류          100   195.16   \n",
              "1     D018001        깨송편      곡류 및 서류               떡류          100   219.01   \n",
              "2     D018002         꿀떡      곡류 및 서류               떡류          100   228.48   \n",
              "3     D018003       모듬찰떡      곡류 및 서류               떡류          100   218.16   \n",
              "4     D018004        백설기      곡류 및 서류               떡류          100   229.50   \n",
              "...       ...        ...          ...              ...          ...      ...   \n",
              "4937  D011185  아이스 바닐라 슈           기타               기타           38   374.00   \n",
              "4938  D011186   아이스 초코 슈           기타               기타           38   410.00   \n",
              "4939  D012132    투썸뉴트리션바           기타               기타           30   125.00   \n",
              "4940  D016281      매콤김떡만           기타               기타          190   469.00   \n",
              "4941  D016282      갈릭김떡만           기타               기타          190   499.00   \n",
              "\n",
              "      protein    fat  carbohydrate  sugar  sodium  cholesterol  \\\n",
              "0        3.92   0.51         43.73   0.00  240.57          0.0   \n",
              "1        4.65   3.23         42.83   1.98  259.75          0.0   \n",
              "2        3.74   1.73         49.48   0.29  275.08          0.0   \n",
              "3        6.78   2.44         42.27   2.98  187.83          0.0   \n",
              "4        3.71   1.45         50.40   0.11  210.90          0.0   \n",
              "...       ...    ...           ...    ...     ...          ...   \n",
              "4937     4.00   4.00          7.00   8.00  138.00          NaN   \n",
              "4938     4.00   4.00          7.00  11.00  130.00          NaN   \n",
              "4939     6.00  10.00         20.00   7.00   50.00          NaN   \n",
              "4940    10.00   3.00          5.00   5.00  848.00          NaN   \n",
              "4941     7.00   4.00          4.00  18.00  458.00          NaN   \n",
              "\n",
              "      saturatedFattyAcid  transFattyAcid taste mainIngredient  \\\n",
              "0                   0.19             0.0  담백한맛              쌀   \n",
              "1                   0.62             0.0    단맛              깨   \n",
              "2                   0.30             0.0    단맛             찹쌀   \n",
              "3                   0.28             0.0    단맛             찹쌀   \n",
              "4                   0.12             0.0    단맛              팥   \n",
              "...                  ...             ...   ...            ...   \n",
              "4937               17.00             NaN    단맛            바닐라   \n",
              "4938               15.00             NaN    단맛            초콜릿   \n",
              "4939                0.50             NaN    단맛            초콜릿   \n",
              "4940                3.00             NaN   매운맛             김치   \n",
              "4941                2.00             NaN   매운맛             김치   \n",
              "\n",
              "     secondaryIngredient cookingMethod allergens  \n",
              "0                     설탕            굽기        없음  \n",
              "1                    깨소금            굽기         깨  \n",
              "2                      꿀            찌기        없음  \n",
              "3                     설탕           끓이기        없음  \n",
              "4                      팥           끓이기        없음  \n",
              "...                  ...           ...       ...  \n",
              "4937                 바닐라            굽기        없음  \n",
              "4938                 초콜릿            굽기       초콜릿  \n",
              "4939                 초콜릿        알 수 없음    알 수 없음  \n",
              "4940                   떡           끓이기    알 수 없음  \n",
              "4941                  마늘            굽기        갈릭  \n",
              "\n",
              "[4942 rows x 19 columns]"
            ],
            "text/html": [
              "\n",
              "  <div id=\"df-7575b119-cb2c-49af-9472-40c55760e91a\" class=\"colab-df-container\">\n",
              "    <div>\n",
              "<style scoped>\n",
              "    .dataframe tbody tr th:only-of-type {\n",
              "        vertical-align: middle;\n",
              "    }\n",
              "\n",
              "    .dataframe tbody tr th {\n",
              "        vertical-align: top;\n",
              "    }\n",
              "\n",
              "    .dataframe thead th {\n",
              "        text-align: right;\n",
              "    }\n",
              "</style>\n",
              "<table border=\"1\" class=\"dataframe\">\n",
              "  <thead>\n",
              "    <tr style=\"text-align: right;\">\n",
              "      <th></th>\n",
              "      <th>code</th>\n",
              "      <th>name</th>\n",
              "      <th>mainFoodType</th>\n",
              "      <th>detailedFoodType</th>\n",
              "      <th>servingSize</th>\n",
              "      <th>calorie</th>\n",
              "      <th>protein</th>\n",
              "      <th>fat</th>\n",
              "      <th>carbohydrate</th>\n",
              "      <th>sugar</th>\n",
              "      <th>sodium</th>\n",
              "      <th>cholesterol</th>\n",
              "      <th>saturatedFattyAcid</th>\n",
              "      <th>transFattyAcid</th>\n",
              "      <th>taste</th>\n",
              "      <th>mainIngredient</th>\n",
              "      <th>secondaryIngredient</th>\n",
              "      <th>cookingMethod</th>\n",
              "      <th>allergens</th>\n",
              "    </tr>\n",
              "  </thead>\n",
              "  <tbody>\n",
              "    <tr>\n",
              "      <th>0</th>\n",
              "      <td>D018000</td>\n",
              "      <td>가래떡</td>\n",
              "      <td>곡류 및 서류</td>\n",
              "      <td>떡류</td>\n",
              "      <td>100</td>\n",
              "      <td>195.16</td>\n",
              "      <td>3.92</td>\n",
              "      <td>0.51</td>\n",
              "      <td>43.73</td>\n",
              "      <td>0.00</td>\n",
              "      <td>240.57</td>\n",
              "      <td>0.0</td>\n",
              "      <td>0.19</td>\n",
              "      <td>0.0</td>\n",
              "      <td>담백한맛</td>\n",
              "      <td>쌀</td>\n",
              "      <td>설탕</td>\n",
              "      <td>굽기</td>\n",
              "      <td>없음</td>\n",
              "    </tr>\n",
              "    <tr>\n",
              "      <th>1</th>\n",
              "      <td>D018001</td>\n",
              "      <td>깨송편</td>\n",
              "      <td>곡류 및 서류</td>\n",
              "      <td>떡류</td>\n",
              "      <td>100</td>\n",
              "      <td>219.01</td>\n",
              "      <td>4.65</td>\n",
              "      <td>3.23</td>\n",
              "      <td>42.83</td>\n",
              "      <td>1.98</td>\n",
              "      <td>259.75</td>\n",
              "      <td>0.0</td>\n",
              "      <td>0.62</td>\n",
              "      <td>0.0</td>\n",
              "      <td>단맛</td>\n",
              "      <td>깨</td>\n",
              "      <td>깨소금</td>\n",
              "      <td>굽기</td>\n",
              "      <td>깨</td>\n",
              "    </tr>\n",
              "    <tr>\n",
              "      <th>2</th>\n",
              "      <td>D018002</td>\n",
              "      <td>꿀떡</td>\n",
              "      <td>곡류 및 서류</td>\n",
              "      <td>떡류</td>\n",
              "      <td>100</td>\n",
              "      <td>228.48</td>\n",
              "      <td>3.74</td>\n",
              "      <td>1.73</td>\n",
              "      <td>49.48</td>\n",
              "      <td>0.29</td>\n",
              "      <td>275.08</td>\n",
              "      <td>0.0</td>\n",
              "      <td>0.30</td>\n",
              "      <td>0.0</td>\n",
              "      <td>단맛</td>\n",
              "      <td>찹쌀</td>\n",
              "      <td>꿀</td>\n",
              "      <td>찌기</td>\n",
              "      <td>없음</td>\n",
              "    </tr>\n",
              "    <tr>\n",
              "      <th>3</th>\n",
              "      <td>D018003</td>\n",
              "      <td>모듬찰떡</td>\n",
              "      <td>곡류 및 서류</td>\n",
              "      <td>떡류</td>\n",
              "      <td>100</td>\n",
              "      <td>218.16</td>\n",
              "      <td>6.78</td>\n",
              "      <td>2.44</td>\n",
              "      <td>42.27</td>\n",
              "      <td>2.98</td>\n",
              "      <td>187.83</td>\n",
              "      <td>0.0</td>\n",
              "      <td>0.28</td>\n",
              "      <td>0.0</td>\n",
              "      <td>단맛</td>\n",
              "      <td>찹쌀</td>\n",
              "      <td>설탕</td>\n",
              "      <td>끓이기</td>\n",
              "      <td>없음</td>\n",
              "    </tr>\n",
              "    <tr>\n",
              "      <th>4</th>\n",
              "      <td>D018004</td>\n",
              "      <td>백설기</td>\n",
              "      <td>곡류 및 서류</td>\n",
              "      <td>떡류</td>\n",
              "      <td>100</td>\n",
              "      <td>229.50</td>\n",
              "      <td>3.71</td>\n",
              "      <td>1.45</td>\n",
              "      <td>50.40</td>\n",
              "      <td>0.11</td>\n",
              "      <td>210.90</td>\n",
              "      <td>0.0</td>\n",
              "      <td>0.12</td>\n",
              "      <td>0.0</td>\n",
              "      <td>단맛</td>\n",
              "      <td>팥</td>\n",
              "      <td>팥</td>\n",
              "      <td>끓이기</td>\n",
              "      <td>없음</td>\n",
              "    </tr>\n",
              "    <tr>\n",
              "      <th>...</th>\n",
              "      <td>...</td>\n",
              "      <td>...</td>\n",
              "      <td>...</td>\n",
              "      <td>...</td>\n",
              "      <td>...</td>\n",
              "      <td>...</td>\n",
              "      <td>...</td>\n",
              "      <td>...</td>\n",
              "      <td>...</td>\n",
              "      <td>...</td>\n",
              "      <td>...</td>\n",
              "      <td>...</td>\n",
              "      <td>...</td>\n",
              "      <td>...</td>\n",
              "      <td>...</td>\n",
              "      <td>...</td>\n",
              "      <td>...</td>\n",
              "      <td>...</td>\n",
              "      <td>...</td>\n",
              "    </tr>\n",
              "    <tr>\n",
              "      <th>4937</th>\n",
              "      <td>D011185</td>\n",
              "      <td>아이스 바닐라 슈</td>\n",
              "      <td>기타</td>\n",
              "      <td>기타</td>\n",
              "      <td>38</td>\n",
              "      <td>374.00</td>\n",
              "      <td>4.00</td>\n",
              "      <td>4.00</td>\n",
              "      <td>7.00</td>\n",
              "      <td>8.00</td>\n",
              "      <td>138.00</td>\n",
              "      <td>NaN</td>\n",
              "      <td>17.00</td>\n",
              "      <td>NaN</td>\n",
              "      <td>단맛</td>\n",
              "      <td>바닐라</td>\n",
              "      <td>바닐라</td>\n",
              "      <td>굽기</td>\n",
              "      <td>없음</td>\n",
              "    </tr>\n",
              "    <tr>\n",
              "      <th>4938</th>\n",
              "      <td>D011186</td>\n",
              "      <td>아이스 초코 슈</td>\n",
              "      <td>기타</td>\n",
              "      <td>기타</td>\n",
              "      <td>38</td>\n",
              "      <td>410.00</td>\n",
              "      <td>4.00</td>\n",
              "      <td>4.00</td>\n",
              "      <td>7.00</td>\n",
              "      <td>11.00</td>\n",
              "      <td>130.00</td>\n",
              "      <td>NaN</td>\n",
              "      <td>15.00</td>\n",
              "      <td>NaN</td>\n",
              "      <td>단맛</td>\n",
              "      <td>초콜릿</td>\n",
              "      <td>초콜릿</td>\n",
              "      <td>굽기</td>\n",
              "      <td>초콜릿</td>\n",
              "    </tr>\n",
              "    <tr>\n",
              "      <th>4939</th>\n",
              "      <td>D012132</td>\n",
              "      <td>투썸뉴트리션바</td>\n",
              "      <td>기타</td>\n",
              "      <td>기타</td>\n",
              "      <td>30</td>\n",
              "      <td>125.00</td>\n",
              "      <td>6.00</td>\n",
              "      <td>10.00</td>\n",
              "      <td>20.00</td>\n",
              "      <td>7.00</td>\n",
              "      <td>50.00</td>\n",
              "      <td>NaN</td>\n",
              "      <td>0.50</td>\n",
              "      <td>NaN</td>\n",
              "      <td>단맛</td>\n",
              "      <td>초콜릿</td>\n",
              "      <td>초콜릿</td>\n",
              "      <td>알 수 없음</td>\n",
              "      <td>알 수 없음</td>\n",
              "    </tr>\n",
              "    <tr>\n",
              "      <th>4940</th>\n",
              "      <td>D016281</td>\n",
              "      <td>매콤김떡만</td>\n",
              "      <td>기타</td>\n",
              "      <td>기타</td>\n",
              "      <td>190</td>\n",
              "      <td>469.00</td>\n",
              "      <td>10.00</td>\n",
              "      <td>3.00</td>\n",
              "      <td>5.00</td>\n",
              "      <td>5.00</td>\n",
              "      <td>848.00</td>\n",
              "      <td>NaN</td>\n",
              "      <td>3.00</td>\n",
              "      <td>NaN</td>\n",
              "      <td>매운맛</td>\n",
              "      <td>김치</td>\n",
              "      <td>떡</td>\n",
              "      <td>끓이기</td>\n",
              "      <td>알 수 없음</td>\n",
              "    </tr>\n",
              "    <tr>\n",
              "      <th>4941</th>\n",
              "      <td>D016282</td>\n",
              "      <td>갈릭김떡만</td>\n",
              "      <td>기타</td>\n",
              "      <td>기타</td>\n",
              "      <td>190</td>\n",
              "      <td>499.00</td>\n",
              "      <td>7.00</td>\n",
              "      <td>4.00</td>\n",
              "      <td>4.00</td>\n",
              "      <td>18.00</td>\n",
              "      <td>458.00</td>\n",
              "      <td>NaN</td>\n",
              "      <td>2.00</td>\n",
              "      <td>NaN</td>\n",
              "      <td>매운맛</td>\n",
              "      <td>김치</td>\n",
              "      <td>마늘</td>\n",
              "      <td>굽기</td>\n",
              "      <td>갈릭</td>\n",
              "    </tr>\n",
              "  </tbody>\n",
              "</table>\n",
              "<p>4942 rows × 19 columns</p>\n",
              "</div>\n",
              "    <div class=\"colab-df-buttons\">\n",
              "\n",
              "  <div class=\"colab-df-container\">\n",
              "    <button class=\"colab-df-convert\" onclick=\"convertToInteractive('df-7575b119-cb2c-49af-9472-40c55760e91a')\"\n",
              "            title=\"Convert this dataframe to an interactive table.\"\n",
              "            style=\"display:none;\">\n",
              "\n",
              "  <svg xmlns=\"http://www.w3.org/2000/svg\" height=\"24px\" viewBox=\"0 -960 960 960\">\n",
              "    <path d=\"M120-120v-720h720v720H120Zm60-500h600v-160H180v160Zm220 220h160v-160H400v160Zm0 220h160v-160H400v160ZM180-400h160v-160H180v160Zm440 0h160v-160H620v160ZM180-180h160v-160H180v160Zm440 0h160v-160H620v160Z\"/>\n",
              "  </svg>\n",
              "    </button>\n",
              "\n",
              "  <style>\n",
              "    .colab-df-container {\n",
              "      display:flex;\n",
              "      gap: 12px;\n",
              "    }\n",
              "\n",
              "    .colab-df-convert {\n",
              "      background-color: #E8F0FE;\n",
              "      border: none;\n",
              "      border-radius: 50%;\n",
              "      cursor: pointer;\n",
              "      display: none;\n",
              "      fill: #1967D2;\n",
              "      height: 32px;\n",
              "      padding: 0 0 0 0;\n",
              "      width: 32px;\n",
              "    }\n",
              "\n",
              "    .colab-df-convert:hover {\n",
              "      background-color: #E2EBFA;\n",
              "      box-shadow: 0px 1px 2px rgba(60, 64, 67, 0.3), 0px 1px 3px 1px rgba(60, 64, 67, 0.15);\n",
              "      fill: #174EA6;\n",
              "    }\n",
              "\n",
              "    .colab-df-buttons div {\n",
              "      margin-bottom: 4px;\n",
              "    }\n",
              "\n",
              "    [theme=dark] .colab-df-convert {\n",
              "      background-color: #3B4455;\n",
              "      fill: #D2E3FC;\n",
              "    }\n",
              "\n",
              "    [theme=dark] .colab-df-convert:hover {\n",
              "      background-color: #434B5C;\n",
              "      box-shadow: 0px 1px 3px 1px rgba(0, 0, 0, 0.15);\n",
              "      filter: drop-shadow(0px 1px 2px rgba(0, 0, 0, 0.3));\n",
              "      fill: #FFFFFF;\n",
              "    }\n",
              "  </style>\n",
              "\n",
              "    <script>\n",
              "      const buttonEl =\n",
              "        document.querySelector('#df-7575b119-cb2c-49af-9472-40c55760e91a button.colab-df-convert');\n",
              "      buttonEl.style.display =\n",
              "        google.colab.kernel.accessAllowed ? 'block' : 'none';\n",
              "\n",
              "      async function convertToInteractive(key) {\n",
              "        const element = document.querySelector('#df-7575b119-cb2c-49af-9472-40c55760e91a');\n",
              "        const dataTable =\n",
              "          await google.colab.kernel.invokeFunction('convertToInteractive',\n",
              "                                                    [key], {});\n",
              "        if (!dataTable) return;\n",
              "\n",
              "        const docLinkHtml = 'Like what you see? Visit the ' +\n",
              "          '<a target=\"_blank\" href=https://colab.research.google.com/notebooks/data_table.ipynb>data table notebook</a>'\n",
              "          + ' to learn more about interactive tables.';\n",
              "        element.innerHTML = '';\n",
              "        dataTable['output_type'] = 'display_data';\n",
              "        await google.colab.output.renderOutput(dataTable, element);\n",
              "        const docLink = document.createElement('div');\n",
              "        docLink.innerHTML = docLinkHtml;\n",
              "        element.appendChild(docLink);\n",
              "      }\n",
              "    </script>\n",
              "  </div>\n",
              "\n",
              "\n",
              "<div id=\"df-45022090-0423-4d28-a64f-60f9f0ac7f6b\">\n",
              "  <button class=\"colab-df-quickchart\" onclick=\"quickchart('df-45022090-0423-4d28-a64f-60f9f0ac7f6b')\"\n",
              "            title=\"Suggest charts\"\n",
              "            style=\"display:none;\">\n",
              "\n",
              "<svg xmlns=\"http://www.w3.org/2000/svg\" height=\"24px\"viewBox=\"0 0 24 24\"\n",
              "     width=\"24px\">\n",
              "    <g>\n",
              "        <path d=\"M19 3H5c-1.1 0-2 .9-2 2v14c0 1.1.9 2 2 2h14c1.1 0 2-.9 2-2V5c0-1.1-.9-2-2-2zM9 17H7v-7h2v7zm4 0h-2V7h2v10zm4 0h-2v-4h2v4z\"/>\n",
              "    </g>\n",
              "</svg>\n",
              "  </button>\n",
              "\n",
              "<style>\n",
              "  .colab-df-quickchart {\n",
              "      --bg-color: #E8F0FE;\n",
              "      --fill-color: #1967D2;\n",
              "      --hover-bg-color: #E2EBFA;\n",
              "      --hover-fill-color: #174EA6;\n",
              "      --disabled-fill-color: #AAA;\n",
              "      --disabled-bg-color: #DDD;\n",
              "  }\n",
              "\n",
              "  [theme=dark] .colab-df-quickchart {\n",
              "      --bg-color: #3B4455;\n",
              "      --fill-color: #D2E3FC;\n",
              "      --hover-bg-color: #434B5C;\n",
              "      --hover-fill-color: #FFFFFF;\n",
              "      --disabled-bg-color: #3B4455;\n",
              "      --disabled-fill-color: #666;\n",
              "  }\n",
              "\n",
              "  .colab-df-quickchart {\n",
              "    background-color: var(--bg-color);\n",
              "    border: none;\n",
              "    border-radius: 50%;\n",
              "    cursor: pointer;\n",
              "    display: none;\n",
              "    fill: var(--fill-color);\n",
              "    height: 32px;\n",
              "    padding: 0;\n",
              "    width: 32px;\n",
              "  }\n",
              "\n",
              "  .colab-df-quickchart:hover {\n",
              "    background-color: var(--hover-bg-color);\n",
              "    box-shadow: 0 1px 2px rgba(60, 64, 67, 0.3), 0 1px 3px 1px rgba(60, 64, 67, 0.15);\n",
              "    fill: var(--button-hover-fill-color);\n",
              "  }\n",
              "\n",
              "  .colab-df-quickchart-complete:disabled,\n",
              "  .colab-df-quickchart-complete:disabled:hover {\n",
              "    background-color: var(--disabled-bg-color);\n",
              "    fill: var(--disabled-fill-color);\n",
              "    box-shadow: none;\n",
              "  }\n",
              "\n",
              "  .colab-df-spinner {\n",
              "    border: 2px solid var(--fill-color);\n",
              "    border-color: transparent;\n",
              "    border-bottom-color: var(--fill-color);\n",
              "    animation:\n",
              "      spin 1s steps(1) infinite;\n",
              "  }\n",
              "\n",
              "  @keyframes spin {\n",
              "    0% {\n",
              "      border-color: transparent;\n",
              "      border-bottom-color: var(--fill-color);\n",
              "      border-left-color: var(--fill-color);\n",
              "    }\n",
              "    20% {\n",
              "      border-color: transparent;\n",
              "      border-left-color: var(--fill-color);\n",
              "      border-top-color: var(--fill-color);\n",
              "    }\n",
              "    30% {\n",
              "      border-color: transparent;\n",
              "      border-left-color: var(--fill-color);\n",
              "      border-top-color: var(--fill-color);\n",
              "      border-right-color: var(--fill-color);\n",
              "    }\n",
              "    40% {\n",
              "      border-color: transparent;\n",
              "      border-right-color: var(--fill-color);\n",
              "      border-top-color: var(--fill-color);\n",
              "    }\n",
              "    60% {\n",
              "      border-color: transparent;\n",
              "      border-right-color: var(--fill-color);\n",
              "    }\n",
              "    80% {\n",
              "      border-color: transparent;\n",
              "      border-right-color: var(--fill-color);\n",
              "      border-bottom-color: var(--fill-color);\n",
              "    }\n",
              "    90% {\n",
              "      border-color: transparent;\n",
              "      border-bottom-color: var(--fill-color);\n",
              "    }\n",
              "  }\n",
              "</style>\n",
              "\n",
              "  <script>\n",
              "    async function quickchart(key) {\n",
              "      const quickchartButtonEl =\n",
              "        document.querySelector('#' + key + ' button');\n",
              "      quickchartButtonEl.disabled = true;  // To prevent multiple clicks.\n",
              "      quickchartButtonEl.classList.add('colab-df-spinner');\n",
              "      try {\n",
              "        const charts = await google.colab.kernel.invokeFunction(\n",
              "            'suggestCharts', [key], {});\n",
              "      } catch (error) {\n",
              "        console.error('Error during call to suggestCharts:', error);\n",
              "      }\n",
              "      quickchartButtonEl.classList.remove('colab-df-spinner');\n",
              "      quickchartButtonEl.classList.add('colab-df-quickchart-complete');\n",
              "    }\n",
              "    (() => {\n",
              "      let quickchartButtonEl =\n",
              "        document.querySelector('#df-45022090-0423-4d28-a64f-60f9f0ac7f6b button');\n",
              "      quickchartButtonEl.style.display =\n",
              "        google.colab.kernel.accessAllowed ? 'block' : 'none';\n",
              "    })();\n",
              "  </script>\n",
              "</div>\n",
              "\n",
              "  <div id=\"id_d7b6724b-8904-4524-962a-a81ef5426265\">\n",
              "    <style>\n",
              "      .colab-df-generate {\n",
              "        background-color: #E8F0FE;\n",
              "        border: none;\n",
              "        border-radius: 50%;\n",
              "        cursor: pointer;\n",
              "        display: none;\n",
              "        fill: #1967D2;\n",
              "        height: 32px;\n",
              "        padding: 0 0 0 0;\n",
              "        width: 32px;\n",
              "      }\n",
              "\n",
              "      .colab-df-generate:hover {\n",
              "        background-color: #E2EBFA;\n",
              "        box-shadow: 0px 1px 2px rgba(60, 64, 67, 0.3), 0px 1px 3px 1px rgba(60, 64, 67, 0.15);\n",
              "        fill: #174EA6;\n",
              "      }\n",
              "\n",
              "      [theme=dark] .colab-df-generate {\n",
              "        background-color: #3B4455;\n",
              "        fill: #D2E3FC;\n",
              "      }\n",
              "\n",
              "      [theme=dark] .colab-df-generate:hover {\n",
              "        background-color: #434B5C;\n",
              "        box-shadow: 0px 1px 3px 1px rgba(0, 0, 0, 0.15);\n",
              "        filter: drop-shadow(0px 1px 2px rgba(0, 0, 0, 0.3));\n",
              "        fill: #FFFFFF;\n",
              "      }\n",
              "    </style>\n",
              "    <button class=\"colab-df-generate\" onclick=\"generateWithVariable('df')\"\n",
              "            title=\"Generate code using this dataframe.\"\n",
              "            style=\"display:none;\">\n",
              "\n",
              "  <svg xmlns=\"http://www.w3.org/2000/svg\" height=\"24px\"viewBox=\"0 0 24 24\"\n",
              "       width=\"24px\">\n",
              "    <path d=\"M7,19H8.4L18.45,9,17,7.55,7,17.6ZM5,21V16.75L18.45,3.32a2,2,0,0,1,2.83,0l1.4,1.43a1.91,1.91,0,0,1,.58,1.4,1.91,1.91,0,0,1-.58,1.4L9.25,21ZM18.45,9,17,7.55Zm-12,3A5.31,5.31,0,0,0,4.9,8.1,5.31,5.31,0,0,0,1,6.5,5.31,5.31,0,0,0,4.9,4.9,5.31,5.31,0,0,0,6.5,1,5.31,5.31,0,0,0,8.1,4.9,5.31,5.31,0,0,0,12,6.5,5.46,5.46,0,0,0,6.5,12Z\"/>\n",
              "  </svg>\n",
              "    </button>\n",
              "    <script>\n",
              "      (() => {\n",
              "      const buttonEl =\n",
              "        document.querySelector('#id_d7b6724b-8904-4524-962a-a81ef5426265 button.colab-df-generate');\n",
              "      buttonEl.style.display =\n",
              "        google.colab.kernel.accessAllowed ? 'block' : 'none';\n",
              "\n",
              "      buttonEl.onclick = () => {\n",
              "        google.colab.notebook.generateWithVariable('df');\n",
              "      }\n",
              "      })();\n",
              "    </script>\n",
              "  </div>\n",
              "\n",
              "    </div>\n",
              "  </div>\n"
            ]
          },
          "metadata": {},
          "execution_count": 3
        }
      ]
    },
    {
      "cell_type": "code",
      "source": [
        "import numpy as np"
      ],
      "metadata": {
        "id": "e2vskvbl7LVo"
      },
      "execution_count": null,
      "outputs": []
    },
    {
      "cell_type": "code",
      "source": [
        "df['mainIngredient'] = np.where(df['mainIngredient'].str.contains('닭'), '닭', df['mainIngredient'])"
      ],
      "metadata": {
        "id": "weYIQKEc7VPS"
      },
      "execution_count": null,
      "outputs": []
    },
    {
      "cell_type": "code",
      "source": [
        "unique_main_ingredients = np.unique(df['mainIngredient'])\n",
        "unique_main_ingredients"
      ],
      "metadata": {
        "colab": {
          "base_uri": "https://localhost:8080/"
        },
        "id": "iPAeSyyg9kBp",
        "outputId": "f9b963c4-086c-47d9-e9da-f473526f2f62"
      },
      "execution_count": null,
      "outputs": [
        {
          "output_type": "execute_result",
          "data": {
            "text/plain": [
              "array(['가금류', '가루', '가오리', '가자미', '가죽나물', '가지', '갈릭', '갈비', '갈치', '감귤',\n",
              "       '감자', '감자, 맛살', '건갈치', '건새우', '건포도', '검은콩', '검정콩', '게', '게살', '계란',\n",
              "       '고구마', '고구마, 건포도', '고구마, 크림치즈', '고구마순', '고구마줄기', '고기', '고기, 토마토',\n",
              "       '고들빼기', '고등어', '고사리', '고추', '고춧잎', '곡물', '곤드레', '곤약', '골드키위',\n",
              "       '골뱅이', '곰', '곱창', '과일', '광어', '구마', '국수', '굴', '굴비', '그뤼에르치즈',\n",
              "       '그린테이', '그린티', '그린티, 티라미수', '근대', '기장', '김', '김밥', '김치', '까망베르치즈',\n",
              "       '까망콩', '깔라만시', '깨', '깻잎', '깻잎순대', '꼬막', '꽁치', '꽃', '꽃게', '꽃맛살',\n",
              "       '꽃잎', '꽈리고추', '꽈리고추, 멸치', '꿀', '꿀, 레몬', '꿀대추', '꿀복숭아', '꿩', '나물',\n",
              "       '나물, 토마토', '낙지', '내장', '냉면', '냉이', '노각', '녹두', '녹말', '녹차', '녹차가루',\n",
              "       '녹차고구마', '녹차파우더', '농어', '눈꽃빙수', '느타리버섯', '다시마', '다크초콜릿', '단무지',\n",
              "       '단백질', '단팥', '단호박', '단호박, 고구마', '달걀', '달걀, 감자, 빵', '달걀, 새우, 빵',\n",
              "       '달걀장', '달걀흰자', '달고나', '달래', '달팽이', '닭', '당근', '당면', '대구', '대추',\n",
              "       '대합', '더덕', '덕', '도가니', '도넛', '도라지', '도라지, 오이', '도우', '도토리',\n",
              "       '도토리묵', '돈까스', '돈사골', '돈육', '돌나물', '동태', '돼지', '돼지갈비', '돼지고기',\n",
              "       '돼지고기, 해물', '돼지곱창, 순대', '돼지껍데기', '돼지등갈비', '돼지머리', '돼지머리고기', '돼지발',\n",
              "       '돼지창자', '된장', '두릅', '두부', '두부, 버섯', '둘깨', '들깨', '딸기', '딸기, 바나나',\n",
              "       '딸기, 생크림', '딸기, 요거트', '딸기, 요구르트', '딸기, 초콜릿', '딸기, 피스타치오',\n",
              "       '딸기와 바나나', '딸기잼', '땅콩', '땅콩, 바나나', '땅콩크림', '땡초', '떡', '떡, 라면',\n",
              "       '떡갈비', '떡볶이', '라디코니', '라떼', '라면', '라면, 김치', '라면, 달걀', '라벤더', '라우겐',\n",
              "       '라임', '라즈베리', '락교', '런천미트', '레드벨벳', '레드빈', '레모네이드', '레몬', '레몬, 민트',\n",
              "       '레몬, 요거트', '레즌', '로만밀', '로즈마리', '로즈자스민', '로즈힙', '루비자몽', '루이보스',\n",
              "       '리코타, 과일', '리코타치즈', '마늘', '마늘, 감자', '마늘쫑', '마늘쫑, 잔멸치', '마라탕',\n",
              "       '마스카포네', '마스카포네치즈', '마차', '마카다미아', '마카다미아넛', '마카롱', '마카롱, 티라미수',\n",
              "       '마테', '만가닥버섯', '만두', '만두피', '말차', '맘모스', '맛살', '망고', '망고, 밀크티',\n",
              "       '망고, 바나나', '망고, 오렌지', '망고, 요거트', '매생이', '맥아', '머쉬룸', '머스카포네',\n",
              "       '머스캣', '머위', '머위대나물', '머핀믹스', '멍게', '메기', '메론', '메론, 요거트', '메밀',\n",
              "       '메밀묵', '메추리알', '멜론', '면', '멸치', '멸치, 풋고추', '명란', '모과', '모래집',\n",
              "       '모짜렐라', '목초란', '무', '무시래기', '묵', '문어', '물고기', '물회', '미꾸라지', '미나리',\n",
              "       '미소시루', '미숫가루', '미역', '미역, 오이', '미역줄기', '미크스', '미트', '미트볼', '미트소스',\n",
              "       '민들레잎', '민트', '민트, 초콜릿', '민트와 초콜릿', '민트초코', '밀', '밀가루', '밀가루, 치즈',\n",
              "       '밀크', '밀크티', '밀푀유', '바게트', '바게트볼', '바나나', '바나나, 딸기', '바나나, 초콜릿',\n",
              "       '바닐라', '바닐라빈', '바비큐', '바지락', '바지락, 미역', '바질', '바질, 모짜렐라', '바질페스토',\n",
              "       '반하나', '밤', '밤, 자색고구마', '밥', '방풍나물', '배', '배추', '백순대', '백합', '뱀장어',\n",
              "       '뱅어포', '버거', '버거패티', '버섯', '버터', '버터밀크', '벌꿀', '베리', '베리, 리코타치즈',\n",
              "       '베이글', '베이글, 크림치즈', '베이컨', '베이컨, 감자', '베이컨, 계란', '베이컨, 체더치즈',\n",
              "       '베이컨, 크루아상', '베이컨, 크림치즈', '베이컨, 토마토', '베이컨, 포테이토', '병어', '보리',\n",
              "       '보이즌베리', '복숭아', '복숭아, 망고', '복숭아, 얼그레이', '복숭아, 요거트', '복숭아, 자두',\n",
              "       '부기브레드', '부꾸미', '부대찌개', '부추', '북어', '북어채', '불갈비', '불고기', '붕어',\n",
              "       '붕장어', '브라우니', '브로콜리', '브리또', '브리오슈', '블랙빈', '블랙빈, 밀크', '블루레몬에이드',\n",
              "       '블루베리', '블루베리, 요거트', '블루베리, 초콜릿', '블루베리잼', '비름', '비름나물', '비스코프',\n",
              "       '비스킷', '비지', '비타민', '비트, 사과', '비프', '빙떡, 귤간장소스', '빙수', '빵',\n",
              "       '빵, 꿀, 생크림', '빵, 버터, 꿀', '빵, 연유, 크림', '빵, 치즈, 마늘', '빵가루', '뼈',\n",
              "       '뼈다귀', '사골', '사과', '사과, 레몬', '사과, 유자', '사과, 히비스커스', '사과와 유자',\n",
              "       '산딸기', '산딸기, 롤케익', '산딸기, 마카롱', '살구자두', '살라미', '삼겹살', '삼치', '상추',\n",
              "       '새송이버섯', '새싹채소', '새우', \"새우'\", '새우, 감자', '새우젓, 두부', '샌드위치', '샐러드',\n",
              "       '생강', '생선', '생크림', '서대회', '석류', '선지', '설탕', '소', '소갈비', '소고기',\n",
              "       '소고기, 돼지고기', '소고기, 버섯', '소고기, 치즈', '소곱창', '소금, 버터, 빵', '소꼬리', '소다',\n",
              "       '소라', '소세지', '소시지', '소시지, 김치', '솜사탕', '송이버섯', '쇠고기', '쇠곱창', '쇠비름',\n",
              "       '쇼콜라', '수박', '수수', '수육', '숙주', '순대', '순두부', '순우유', '쉬림프',\n",
              "       '쉬림프, 스테이크', '쉬림프, 아보카도', '슈와 망고', '스테이크', '스트로베리', '스파게티', '시금치',\n",
              "       '시나몬', '시래기', '시트러스', '식빵', '쌀', '쌀가루', '쏘시지', '쑥', '쑥갓', '쑥떡',\n",
              "       '씀바귀', '씨푸드', '아구', '아귀', '아마레나 체리', '아몬드', '아몬드, 초콜릿',\n",
              "       '아몬드, 크림치즈', '아몬드가루', '아보카도', '아욱', '아이스크림', '아이스티', '아이스티, 레몬',\n",
              "       '아카시아꿀', '안심', '알', '알 수 없음', '알로에', '알몬드', '알코올', '애플', '애플망고',\n",
              "       '애호박', '야채', '양갈비', '양념치킨', '양미리', '양배추', '양상추', '양송이버섯', '양파',\n",
              "       '양파와 감자', '어묵', '어묵, 김치', '얼갈이배추', '얼그레이티', '얼음', '에그, 감자',\n",
              "       '에스프레소', '에스프레소, 우유', '연근', '연근, 흑임자', '연어', '연유', '연유, 커피', '열무',\n",
              "       '오곡', '오뎅', '오돌뼈', '오레오', '오레오, 우유', '오레오, 크림치즈', '오렌지', '오렌지, 망고',\n",
              "       '오렌지, 쇼콜라', '오렌지, 자몽', '오렌지, 파인애플', '오리', '오리고기', '오이', '오징어',\n",
              "       '오트밀', '오트밀, 레이즌', '오트밀, 블루베리', '옥수수', '옥수수, 감자', '올갱이', '올리브',\n",
              "       '와규', '와인', '와일드베리', '와플', '와플, 아이스크림', '완두', '완두콩', '요거트',\n",
              "       '요거트, 계란', '우거지', '우동면', '우럭', '우렁', '우렁이', '우롱차', '우리밀', '우리쌀',\n",
              "       '우삼겹', '우삼겹, 순두부', '우삼겹, 청국장', '우엉', '우유', '우유, 딸기', '우육', '워터멜론',\n",
              "       '윈터멜론', '유부', '유부, 우엉', '유스베리', '유자', '유자, 캐모마일', '유자, 티라미수',\n",
              "       '유채나물', '육류', '인절미', '임연수', '자두', '자몽', '자색고구마', '자스민', '잔멸치',\n",
              "       '잔멸치, 꽈리고추', '잔멸치와 풋고추', '잡곡', '잡채', '잡채, 어묵', '잣', '장어', '재첩',\n",
              "       '전복', '제육', '제주감귤, 치즈', '조개', '조갯살', '조기', '주꾸미', '죽순, 쇠고기', '쥐포',\n",
              "       '짜장소스', '짬뽕, 순두부', '짱뚱어', '차', '차, 레몬', '차, 우유', '차, 우유, 설탕',\n",
              "       '차, 우유, 얼음', '차, 펄, 우유', '차나무', '차돌박이, 숙주', '차엽', '차이티', '차잎',\n",
              "       '찰옥수수', '참깨', '참나물', '참치', '참치, 김치', '참치, 두부', '찹쌀', '찹쌀가루', '채소',\n",
              "       '천혜향', '청국장', '청귤', '청포도', '청포도, 케일', '청포묵', '체리', '초코', '초코레이트',\n",
              "       '초코렛', '초코렛, 바나나', '초코렛칩', '초코릿', '초코바나나', '초코칩', '초코쿠키', '초콜릿',\n",
              "       '초콜릿, 밀크', '초콜릿, 우유', '초콜릿칩', '추어', '취나물', '치즈', '치즈, 고구마',\n",
              "       '치즈, 소시지', '치즈, 스파게티', '치즈폼', '치커리', '치킨', '치킨, 스파게티', '치킨, 치즈',\n",
              "       '치킨텐더', '치킨파스타', '치피', '카라멜', '카모마일', '카카오', '캐모마일', '커리', '커피',\n",
              "       '케이크', '케이크믹스', '케익반죽, 생크림', '코다리', '코코넛', '코코넛, 망고', '코코넛밀크',\n",
              "       '코코아', '콜라비', '콩', '콩고물', '콩나물', '콩비지', '쿠키', '쿠키, 밀크', '쿠키앤크림',\n",
              "       '퀴노아', '크랜베리', '크랩', '크레이프', '크레페', '크로와상', '크루아상', '크림', '크림치즈',\n",
              "       '크림치즈, 쌀가루', '크림치즈, 인절미', '키위', '키위, 바나나', '키조개', '타로',\n",
              "       '타로, 밀크, 펄', '타르트, 티라미수', '타코', '타피오카', '터키', '터키, 햄', '토란', '토란대',\n",
              "       '토르티야', '토마토', '토마토, 모짜렐라', '토마토바질', '토스트', '톳', '톳나물, 두부', '통곡물',\n",
              "       '통밀', '통새우', '통오징어', '튜나', '트러플', '트러플, 모짜렐라', '트러플오일', '티', '파',\n",
              "       '파래', '파마산', '파스타', '파이도우', '파이반죽', '파이생지', '파인애플', '파인애플, 햄',\n",
              "       '팝콘', '팥', '팥, 치즈, 반죽', '페파로니', '페퍼로니', '페퍼민트', '페페로니', '펜네', '포도',\n",
              "       '포크, 치즈, 밤', '포테이토', '표고버섯', '풀드포크', '풋고추', '풋마늘', '프레즐', '프렛즐',\n",
              "       '프로슈토', '피넛', '피넛버터', '피넛버터, 젤리', '피스타치오', '피자', '피자 dough',\n",
              "       '피자도우', '피자반죽', '피조개', '피치', '피치플럼', '피칸', '한라봉', '한라봉, 스콘믹스',\n",
              "       '한우', '한치', '함박스테이크', '핫도그', '해물', '해초', '해파리', '햄', '햄, 계란, 감자',\n",
              "       '햄, 계란, 치즈', '햄, 김치', '햄, 달걀', '햄, 체다치즈', '햄, 치즈, 빵', '햄, 코올슬로',\n",
              "       '햄, 크루아상', '햄버거', '햄버거패티', '햅쌀', '허니', '허니, 레몬', '허니, 레몬, 티', '허브',\n",
              "       '허브복숭아', '허브복숭아티', '헤이즐넛', '현무암', '현미', '호두', '호두, 당근', '호두, 아몬드',\n",
              "       '호밀, 호두', '호밀빵', '호박', '호박고구마', '호박오가리', '호박잎', '홍시', '홍어', '홍자몽',\n",
              "       '홍차', '홍합', '화이트초코', '화이트초코레이트', '화이트초콜릿', '황태', '회', '효모', '후랑크',\n",
              "       '후박', '흑당', '흑돼지', '흑미', '흑미, 찹쌀', '흑임자', '히비스커스'], dtype=object)"
            ]
          },
          "metadata": {},
          "execution_count": 6
        }
      ]
    },
    {
      "cell_type": "code",
      "source": [
        "df['mainIngredient'] = np.where(df['mainIngredient'].str.contains('사과'), '사과', df['mainIngredient'])"
      ],
      "metadata": {
        "id": "ONohXGih9o1j"
      },
      "execution_count": null,
      "outputs": []
    },
    {
      "cell_type": "code",
      "source": [
        "df['mainIngredient'] = np.where(df['mainIngredient'].str.contains('초콜릿'), '초콜릿', df['mainIngredient'])"
      ],
      "metadata": {
        "id": "xeOw0pPn9-sY"
      },
      "execution_count": null,
      "outputs": []
    },
    {
      "cell_type": "code",
      "source": [
        "df['mainIngredient'] = np.where(df['mainIngredient'].str.contains('돼지'), '돼지', df['mainIngredient'])"
      ],
      "metadata": {
        "id": "Nkf1EuqF-Mvh"
      },
      "execution_count": null,
      "outputs": []
    },
    {
      "cell_type": "code",
      "source": [
        "df['mainIngredient'] = np.where(df['mainIngredient'].str.contains('소고기'), '소고기', df['mainIngredient'])"
      ],
      "metadata": {
        "id": "1qBk20-l-SHj"
      },
      "execution_count": null,
      "outputs": []
    },
    {
      "cell_type": "code",
      "source": [
        "df['mainIngredient'] = np.where(df['mainIngredient'].str.contains('베이컨'), '베이컨', df['mainIngredient'])"
      ],
      "metadata": {
        "id": "gtdkWLbU-ew4"
      },
      "execution_count": null,
      "outputs": []
    },
    {
      "cell_type": "code",
      "source": [
        "df['mainIngredient'] = np.where(df['mainIngredient'].str.contains('치즈'), '치즈', df['mainIngredient'])"
      ],
      "metadata": {
        "id": "pANxA9IL-euq"
      },
      "execution_count": null,
      "outputs": []
    },
    {
      "cell_type": "code",
      "source": [
        "df['mainIngredient'] = np.where(df['mainIngredient'].str.contains('고구마'), '고구마', df['mainIngredient'])"
      ],
      "metadata": {
        "id": "sOsxralN-XpO"
      },
      "execution_count": null,
      "outputs": []
    },
    {
      "cell_type": "code",
      "source": [
        "df['mainIngredient'] = np.where(df['mainIngredient'].str.contains('우유'), '우유', df['mainIngredient'])"
      ],
      "metadata": {
        "id": "UbvZ3ER-_GQ2"
      },
      "execution_count": null,
      "outputs": []
    },
    {
      "cell_type": "code",
      "source": [
        "df['mainIngredient'] = np.where(df['mainIngredient'].str.contains('딸기'), '딸기', df['mainIngredient'])"
      ],
      "metadata": {
        "id": "NTujGbGW_ZZv"
      },
      "execution_count": null,
      "outputs": []
    },
    {
      "cell_type": "code",
      "source": [
        "df['mainIngredient'] = np.where(df['mainIngredient'].str.contains('빵'), '빵', df['mainIngredient'])"
      ],
      "metadata": {
        "id": "BNwh3GyG_c3M"
      },
      "execution_count": null,
      "outputs": []
    },
    {
      "cell_type": "code",
      "source": [
        "df['mainIngredient'] = np.where(df['mainIngredient'].str.contains('초코'), '초코', df['mainIngredient'])"
      ],
      "metadata": {
        "id": "u-fVxdWv_nJ5"
      },
      "execution_count": null,
      "outputs": []
    },
    {
      "cell_type": "code",
      "source": [
        "df['mainIngredient'] = np.where(df['mainIngredient'].str.contains('치킨'), '닭', df['mainIngredient'])"
      ],
      "metadata": {
        "id": "LMrZVnAC_64X"
      },
      "execution_count": null,
      "outputs": []
    },
    {
      "cell_type": "code",
      "source": [
        "df['mainIngredient'] = np.where(df['mainIngredient'].str.contains('호두','아몬드'), '견과류', df['mainIngredient'])"
      ],
      "metadata": {
        "id": "WY4X_TR3ABrM"
      },
      "execution_count": null,
      "outputs": []
    },
    {
      "cell_type": "code",
      "source": [
        "df['mainIngredient'] = np.where(df['mainIngredient'].str.contains('트러플'), '트러플', df['mainIngredient'])"
      ],
      "metadata": {
        "id": "ISZhNcsGAYqT"
      },
      "execution_count": null,
      "outputs": []
    },
    {
      "cell_type": "code",
      "source": [
        "df['mainIngredient'] = np.where(df['mainIngredient'].str.contains('라면'), '라면', df['mainIngredient'])"
      ],
      "metadata": {
        "id": "I10-fh5sAilu"
      },
      "execution_count": null,
      "outputs": []
    },
    {
      "cell_type": "code",
      "source": [
        "df['mainIngredient'] = np.where(df['mainIngredient'].str.contains('삼겹'), '돼지', df['mainIngredient'])"
      ],
      "metadata": {
        "id": "G0QJOADVA-W1"
      },
      "execution_count": null,
      "outputs": []
    },
    {
      "cell_type": "code",
      "source": [
        "df['mainIngredient'] = np.where(df['mainIngredient'].str.contains('조개','조갯'), '조개', df['mainIngredient'])"
      ],
      "metadata": {
        "id": "V9CT1gREBF32"
      },
      "execution_count": null,
      "outputs": []
    },
    {
      "cell_type": "code",
      "source": [
        "df['mainIngredient'] = np.where(df['mainIngredient'].str.contains('새우'), '새우', df['mainIngredient'])"
      ],
      "metadata": {
        "id": "Z-DuLAl1BL8a"
      },
      "execution_count": null,
      "outputs": []
    },
    {
      "cell_type": "code",
      "source": [
        "df['mainIngredient'] = np.where(df['mainIngredient'].str.contains('두부'), '두부', df['mainIngredient'])"
      ],
      "metadata": {
        "id": "1ULyD_CVBS49"
      },
      "execution_count": null,
      "outputs": []
    },
    {
      "cell_type": "code",
      "source": [
        "df['mainIngredient'] = np.where(df['mainIngredient'].str.contains('바닐라'), '바닐라', df['mainIngredient'])"
      ],
      "metadata": {
        "id": "z4A5uDd_BZcp"
      },
      "execution_count": null,
      "outputs": []
    },
    {
      "cell_type": "code",
      "source": [
        "df['mainIngredient'] = np.where(df['mainIngredient'].str.contains('미역'), '미역', df['mainIngredient'])"
      ],
      "metadata": {
        "id": "3zSAv-ggBjwg"
      },
      "execution_count": null,
      "outputs": []
    },
    {
      "cell_type": "code",
      "source": [
        "df['mainIngredient'] = np.where(df['mainIngredient'].str.contains('바질'), '바질', df['mainIngredient'])"
      ],
      "metadata": {
        "id": "D1q_I5jrBneA"
      },
      "execution_count": null,
      "outputs": []
    },
    {
      "cell_type": "code",
      "source": [
        "df['mainIngredient'] = np.where(df['mainIngredient'].str.contains('레몬'), '레몬', df['mainIngredient'])"
      ],
      "metadata": {
        "id": "ug_m1bAwBsgz"
      },
      "execution_count": null,
      "outputs": []
    },
    {
      "cell_type": "code",
      "source": [
        "df['mainIngredient'] = np.where(df['mainIngredient'].str.contains('키위'), '키위', df['mainIngredient'])"
      ],
      "metadata": {
        "id": "pgISyXrIBxjc"
      },
      "execution_count": null,
      "outputs": []
    },
    {
      "cell_type": "code",
      "source": [
        "df['mainIngredient'] = np.where(df['mainIngredient'].str.contains('바나나'), '바나나', df['mainIngredient'])"
      ],
      "metadata": {
        "id": "3BD5766YB2Pz"
      },
      "execution_count": null,
      "outputs": []
    },
    {
      "cell_type": "code",
      "source": [
        "df['mainIngredient'] = np.where(df['mainIngredient'].str.contains('자두'), '자두', df['mainIngredient'])"
      ],
      "metadata": {
        "id": "gmotG_RaB4lL"
      },
      "execution_count": null,
      "outputs": []
    },
    {
      "cell_type": "code",
      "source": [
        "df['mainIngredient'] = np.where(df['mainIngredient'].str.contains('옥수수'), '옥수수', df['mainIngredient'])"
      ],
      "metadata": {
        "id": "C2bmyzY2B6Jh"
      },
      "execution_count": null,
      "outputs": []
    },
    {
      "cell_type": "code",
      "source": [
        "df['mainIngredient'] = np.where(df['mainIngredient'].str.contains('회'), '회', df['mainIngredient'])"
      ],
      "metadata": {
        "id": "VzFcfzHDCEQl"
      },
      "execution_count": null,
      "outputs": []
    },
    {
      "cell_type": "code",
      "source": [
        "df['mainIngredient'] = np.where(df['mainIngredient'].str.contains('땅콩'), '땅콩', df['mainIngredient'])"
      ],
      "metadata": {
        "id": "E2Kup0IMpN4l"
      },
      "execution_count": null,
      "outputs": []
    },
    {
      "cell_type": "code",
      "source": [
        "df['mainIngredient'] = np.where(df['mainIngredient'].str.contains('나물'), '나물', df['mainIngredient'])"
      ],
      "metadata": {
        "id": "e-K37pgGpVr6"
      },
      "execution_count": null,
      "outputs": []
    },
    {
      "cell_type": "code",
      "source": [
        "df['mainIngredient'] = np.where(df['mainIngredient'].str.contains('복숭아'), '복숭아', df['mainIngredient'])"
      ],
      "metadata": {
        "id": "eXGjWNkWphai"
      },
      "execution_count": null,
      "outputs": []
    },
    {
      "cell_type": "code",
      "source": [
        "df['mainIngredient'] = np.where(df['mainIngredient'].str.contains('메론','멜론'), '메론', df['mainIngredient'])"
      ],
      "metadata": {
        "id": "MRQCPvvtpml6"
      },
      "execution_count": null,
      "outputs": []
    },
    {
      "cell_type": "code",
      "source": [
        "df['mainIngredient'] = np.where(df['mainIngredient'].str.contains('오렌지'), '오렌지', df['mainIngredient'])"
      ],
      "metadata": {
        "id": "eAcHL3Xdpx7-"
      },
      "execution_count": null,
      "outputs": []
    },
    {
      "cell_type": "code",
      "source": [
        "df['mainIngredient'] = np.where(df['mainIngredient'].str.contains('망고'), '망고', df['mainIngredient'])"
      ],
      "metadata": {
        "id": "qdAWwtdOp7rQ"
      },
      "execution_count": null,
      "outputs": []
    },
    {
      "cell_type": "code",
      "source": [
        "df['mainIngredient'] = np.where(df['mainIngredient'].str.contains('유자'), '유자', df['mainIngredient'])"
      ],
      "metadata": {
        "id": "s-gmyYxxp9-T"
      },
      "execution_count": null,
      "outputs": []
    },
    {
      "cell_type": "code",
      "source": [
        "df['mainIngredient'] = np.where(df['mainIngredient'].str.contains('피자'), '피자', df['mainIngredient'])"
      ],
      "metadata": {
        "id": "HXr8J2oKqGMO"
      },
      "execution_count": null,
      "outputs": []
    },
    {
      "cell_type": "code",
      "source": [
        "df['mainIngredient'] = np.where(df['mainIngredient'].str.contains('파인애플'), '파인애플', df['mainIngredient'])"
      ],
      "metadata": {
        "id": "O81wHcl5qNiF"
      },
      "execution_count": null,
      "outputs": []
    },
    {
      "cell_type": "code",
      "source": [
        "df['mainIngredient'] = np.where(df['mainIngredient'].str.contains('코코넛'), '코코넛', df['mainIngredient'])"
      ],
      "metadata": {
        "id": "fyx5-QaLqTP8"
      },
      "execution_count": null,
      "outputs": []
    },
    {
      "cell_type": "code",
      "source": [
        "df['mainIngredient'] = np.where(df['mainIngredient'].str.contains('햄버거'), '햄버거', df['mainIngredient'])"
      ],
      "metadata": {
        "id": "EWz9eAt3qeCA"
      },
      "execution_count": null,
      "outputs": []
    },
    {
      "cell_type": "code",
      "source": [
        "df['mainIngredient'] = np.where(df['mainIngredient'].str.contains('햄버거'), '햄버거', df['mainIngredient'])"
      ],
      "metadata": {
        "id": "kBzbm7cWqkSS"
      },
      "execution_count": null,
      "outputs": []
    },
    {
      "cell_type": "code",
      "source": [
        "df['mainIngredient'] = np.where(df['mainIngredient'].str.contains('터키'), '터키', df['mainIngredient'])"
      ],
      "metadata": {
        "id": "8zbiQWH5qoHg"
      },
      "execution_count": null,
      "outputs": []
    },
    {
      "cell_type": "code",
      "source": [
        "df['mainIngredient'] = np.where(df['mainIngredient'].str.contains('케익'), '케이크', df['mainIngredient'])"
      ],
      "metadata": {
        "id": "74HR5Yc6qqkJ"
      },
      "execution_count": null,
      "outputs": []
    },
    {
      "cell_type": "code",
      "source": [
        "df['mainIngredient'] = np.where(df['mainIngredient'].str.contains('고기'), '고기', df['mainIngredient'])"
      ],
      "metadata": {
        "id": "-pxDbex7qwGc"
      },
      "execution_count": null,
      "outputs": []
    },
    {
      "cell_type": "code",
      "source": [
        "df['mainIngredient'] = np.where(df['mainIngredient'].str.contains('콩'), '콩', df['mainIngredient'])"
      ],
      "metadata": {
        "id": "ldw2erTGrA2T"
      },
      "execution_count": null,
      "outputs": []
    },
    {
      "cell_type": "code",
      "source": [
        "df['mainIngredient'] = np.where(df['mainIngredient'].str.contains('햄,'), '햄', df['mainIngredient'])"
      ],
      "metadata": {
        "id": "NweRaRdkrJun"
      },
      "execution_count": null,
      "outputs": []
    },
    {
      "cell_type": "code",
      "source": [
        "df['mainIngredient'] = np.where(df['mainIngredient'].str.contains('쉬림프','새우'), '새우', df['mainIngredient'])"
      ],
      "metadata": {
        "id": "sgjGbcfzrT89"
      },
      "execution_count": null,
      "outputs": []
    },
    {
      "cell_type": "code",
      "source": [
        "df['mainIngredient'] = np.where(df['mainIngredient'].str.contains('아몬드','알몬드'), '아몬드', df['mainIngredient'])"
      ],
      "metadata": {
        "id": "BuBx6WJ0rorj"
      },
      "execution_count": null,
      "outputs": []
    },
    {
      "cell_type": "code",
      "source": [
        "df['mainIngredient'] = np.where(df['mainIngredient'].str.contains('뼈'), '뼈', df['mainIngredient'])"
      ],
      "metadata": {
        "id": "j5BMp8TKrxci"
      },
      "execution_count": null,
      "outputs": []
    },
    {
      "cell_type": "code",
      "source": [
        "df['mainIngredient'] = np.where(df['mainIngredient'].str.contains('스트로베리'), '딸기', df['mainIngredient'])"
      ],
      "metadata": {
        "id": "8tNoPaVmsT5-"
      },
      "execution_count": null,
      "outputs": []
    },
    {
      "cell_type": "code",
      "source": [
        "df['mainIngredient'] = np.where(df['mainIngredient'].str.contains('베리'), '베리', df['mainIngredient'])"
      ],
      "metadata": {
        "id": "D5UM1Hx7siaF"
      },
      "execution_count": null,
      "outputs": []
    },
    {
      "cell_type": "code",
      "source": [
        "df['mainIngredient'] = np.where(df['mainIngredient'].str.contains('쏘시지'), '소세지', df['mainIngredient'])"
      ],
      "metadata": {
        "id": "1l32FFJmtLRk"
      },
      "execution_count": null,
      "outputs": []
    },
    {
      "cell_type": "code",
      "source": [
        "df['mainIngredient'] = np.where(df['mainIngredient'].str.contains('쑥'), '쑥', df['mainIngredient'])"
      ],
      "metadata": {
        "id": "P6M2v2j2tVPU"
      },
      "execution_count": null,
      "outputs": []
    },
    {
      "cell_type": "code",
      "source": [
        "df['mainIngredient'] = np.where(df['mainIngredient'].str.contains('쌀'), '쌀', df['mainIngredient'])"
      ],
      "metadata": {
        "id": "qP2APqnXthpv"
      },
      "execution_count": null,
      "outputs": []
    },
    {
      "cell_type": "code",
      "source": [
        "df['mainIngredient'] = np.where(df['mainIngredient'].str.contains('밀가루'), '밀가루', df['mainIngredient'])"
      ],
      "metadata": {
        "id": "leoKtgETtm32"
      },
      "execution_count": null,
      "outputs": []
    },
    {
      "cell_type": "code",
      "source": [
        "df['mainIngredient'] = np.where(df['mainIngredient'].str.contains('쿠키'), '쿠키', df['mainIngredient'])"
      ],
      "metadata": {
        "id": "8QO3XUwtvXZS"
      },
      "execution_count": null,
      "outputs": []
    },
    {
      "cell_type": "code",
      "source": [
        "df['mainIngredient'] = np.where(df['mainIngredient'].str.contains('잡채'), '잡채', df['mainIngredient'])"
      ],
      "metadata": {
        "id": "hpZjS7iYvglk"
      },
      "execution_count": null,
      "outputs": []
    },
    {
      "cell_type": "code",
      "source": [
        "df['mainIngredient'] = np.where(df['mainIngredient'].str.contains('마카다미아'), '마카다미아', df['mainIngredient'])"
      ],
      "metadata": {
        "id": "Tt4JMcFRvjtz"
      },
      "execution_count": null,
      "outputs": []
    },
    {
      "cell_type": "code",
      "source": [
        "df['mainIngredient'] = np.where(df['mainIngredient'].str.contains('버섯'), '버섯', df['mainIngredient'])"
      ],
      "metadata": {
        "id": "n60nsOp0v4tG"
      },
      "execution_count": null,
      "outputs": []
    },
    {
      "cell_type": "code",
      "source": [
        "df['mainIngredient'] = np.where(df['mainIngredient'].str.contains('도토리'), '도토리', df['mainIngredient'])"
      ],
      "metadata": {
        "id": "M8xV529twFba"
      },
      "execution_count": null,
      "outputs": []
    },
    {
      "cell_type": "code",
      "source": [
        "df['mainIngredient'] = np.where(df['mainIngredient'].str.contains('요거트'), '요거트', df['mainIngredient'])"
      ],
      "metadata": {
        "id": "-z2IUnSowKaK"
      },
      "execution_count": null,
      "outputs": []
    },
    {
      "cell_type": "code",
      "source": [
        "df['mainIngredient'] = np.where(df['mainIngredient'].str.contains('달걀','계란'), '계란', df['mainIngredient'])"
      ],
      "metadata": {
        "id": "WIdgFNUrwSr5"
      },
      "execution_count": null,
      "outputs": []
    },
    {
      "cell_type": "code",
      "source": [
        "df['mainIngredient'] = np.where(df['mainIngredient'].str.contains('야채','채소'), '채소', df['mainIngredient'])"
      ],
      "metadata": {
        "id": "ff5SVvjgwV1N"
      },
      "execution_count": null,
      "outputs": []
    },
    {
      "cell_type": "code",
      "source": [
        "df['mainIngredient'] = np.where(df['mainIngredient'].str.contains('쇠'), '소', df['mainIngredient'])"
      ],
      "metadata": {
        "id": "GtdsESNGwbrU"
      },
      "execution_count": null,
      "outputs": []
    },
    {
      "cell_type": "code",
      "source": [
        "df['mainIngredient'] = np.where(df['mainIngredient'].str.contains('대추'), '대추', df['mainIngredient'])"
      ],
      "metadata": {
        "id": "b28CB78_who_"
      },
      "execution_count": null,
      "outputs": []
    },
    {
      "cell_type": "code",
      "source": [
        "df['mainIngredient'] = np.where(df['mainIngredient'].str.contains('허니','꿀'), '꿀', df['mainIngredient'])"
      ],
      "metadata": {
        "id": "uRhRuvfJw1Tv"
      },
      "execution_count": null,
      "outputs": []
    },
    {
      "cell_type": "code",
      "source": [
        "df['mainIngredient'] = np.where(df['mainIngredient'].str.contains('레모네이드','레몬'), '레몬', df['mainIngredient'])"
      ],
      "metadata": {
        "id": "iFOOlnnKw4MV"
      },
      "execution_count": null,
      "outputs": []
    },
    {
      "cell_type": "code",
      "source": [
        "df['mainIngredient'] = np.where(df['mainIngredient'].str.contains('레드빈','단팥'), '팥', df['mainIngredient'])"
      ],
      "metadata": {
        "id": "F3znWSz3xATZ"
      },
      "execution_count": null,
      "outputs": []
    },
    {
      "cell_type": "code",
      "source": [
        "df['mainIngredient'] = np.where(df['mainIngredient'].str.contains('오징어'), '오징어', df['mainIngredient'])"
      ],
      "metadata": {
        "id": "EMcWRzXlxKxb"
      },
      "execution_count": null,
      "outputs": []
    },
    {
      "cell_type": "code",
      "source": [
        "df['mainIngredient'] = np.where(df['mainIngredient'].str.contains('아구'), '아귀', df['mainIngredient'])"
      ],
      "metadata": {
        "id": "VyFvSi7gxQeV"
      },
      "execution_count": null,
      "outputs": []
    },
    {
      "cell_type": "code",
      "source": [
        "df['mainIngredient'] = np.where(df['mainIngredient'].str.contains('스테이크'), '소', df['mainIngredient'])"
      ],
      "metadata": {
        "id": "qbHPyLaIxT7f"
      },
      "execution_count": null,
      "outputs": []
    },
    {
      "cell_type": "code",
      "source": [
        "df['mainIngredient'] = np.where(df['mainIngredient'].str.contains('장어'), '장어', df['mainIngredient'])"
      ],
      "metadata": {
        "id": "Mtrqw4DdxjsW"
      },
      "execution_count": null,
      "outputs": []
    },
    {
      "cell_type": "code",
      "source": [
        "df['mainIngredient'] = np.where(df['mainIngredient'].str.contains('꿀'), '꿀', df['mainIngredient'])"
      ],
      "metadata": {
        "id": "Ww8nP6Z6xZlo"
      },
      "execution_count": null,
      "outputs": []
    },
    {
      "cell_type": "code",
      "source": [
        "df['mainIngredient'] = np.where(df['mainIngredient'].str.contains('미트'), '육류', df['mainIngredient'])"
      ],
      "metadata": {
        "id": "bC0pIBrhxwUG"
      },
      "execution_count": null,
      "outputs": []
    },
    {
      "cell_type": "code",
      "source": [
        "df['mainIngredient'] = np.where(df['mainIngredient'].str.contains('멸치'), '멸치', df['mainIngredient'])"
      ],
      "metadata": {
        "id": "Bgp3OhOwyBHw"
      },
      "execution_count": null,
      "outputs": []
    },
    {
      "cell_type": "code",
      "source": [
        "df['mainIngredient'] = np.where(df['mainIngredient'].str.contains('고추'), '고추', df['mainIngredient'])"
      ],
      "metadata": {
        "id": "DFczogb3yLxr"
      },
      "execution_count": null,
      "outputs": []
    },
    {
      "cell_type": "code",
      "source": [
        "df['mainIngredient'] = np.where(df['mainIngredient'].str.contains('머스캣'), '포도', df['mainIngredient'])"
      ],
      "metadata": {
        "id": "tFpw0zA8yPn4"
      },
      "execution_count": null,
      "outputs": []
    },
    {
      "cell_type": "code",
      "source": [
        "df['mainIngredient'] = np.where(df['mainIngredient'].str.contains('포도'), '포도', df['mainIngredient'])"
      ],
      "metadata": {
        "id": "43EUZd_4yVCK"
      },
      "execution_count": null,
      "outputs": []
    },
    {
      "cell_type": "code",
      "source": [
        "df['mainIngredient'] = np.where(df['mainIngredient'].str.contains('블랙빈'), '검은콩', df['mainIngredient'])"
      ],
      "metadata": {
        "id": "Kih7BU3SyWXD"
      },
      "execution_count": null,
      "outputs": []
    },
    {
      "cell_type": "code",
      "source": [
        "df['mainIngredient'] = np.where(df['mainIngredient'].str.contains('밀크'), '우유', df['mainIngredient'])"
      ],
      "metadata": {
        "id": "kMYJqRZSyiCk"
      },
      "execution_count": null,
      "outputs": []
    },
    {
      "cell_type": "code",
      "source": [
        "df['mainIngredient'] = np.where(df['mainIngredient'].str.contains('갈비'), '갈비', df['mainIngredient'])"
      ],
      "metadata": {
        "id": "FDlhuDyLykZP"
      },
      "execution_count": null,
      "outputs": []
    },
    {
      "cell_type": "code",
      "source": [
        "df['mainIngredient'] = np.where(df['mainIngredient'].str.contains('떡'), '떡', df['mainIngredient'])"
      ],
      "metadata": {
        "id": "FjG8UajqzLZq"
      },
      "execution_count": null,
      "outputs": []
    },
    {
      "cell_type": "code",
      "source": [
        "df['mainIngredient'] = np.where(df['mainIngredient'].str.contains('녹차'), '녹차', df['mainIngredient'])"
      ],
      "metadata": {
        "id": "KGRJr8sxzOTW"
      },
      "execution_count": null,
      "outputs": []
    },
    {
      "cell_type": "code",
      "source": [
        "df['mainIngredient'] = np.where(df['mainIngredient'].str.contains('바게트'), '바게트', df['mainIngredient'])"
      ],
      "metadata": {
        "id": "13c2wLcczTFf"
      },
      "execution_count": null,
      "outputs": []
    },
    {
      "cell_type": "code",
      "source": [
        "df['mainIngredient'] = np.where(df['mainIngredient'].str.contains('알몬드'), '아몬드', df['mainIngredient'])"
      ],
      "metadata": {
        "id": "slE8Ky7Fzxjw"
      },
      "execution_count": null,
      "outputs": []
    },
    {
      "cell_type": "code",
      "source": [
        "df['mainIngredient'] = np.where(df['mainIngredient'].str.contains('와플'), '와플', df['mainIngredient'])"
      ],
      "metadata": {
        "id": "V6toX8C8z5Lp"
      },
      "execution_count": null,
      "outputs": []
    },
    {
      "cell_type": "code",
      "source": [
        "df['mainIngredient'] = np.where(df['mainIngredient'].str.contains('바비큐'), '육류', df['mainIngredient'])"
      ],
      "metadata": {
        "id": "08yhMG850A1u"
      },
      "execution_count": null,
      "outputs": []
    },
    {
      "cell_type": "code",
      "source": [
        "df['mainIngredient'] = np.where(df['mainIngredient'].str.contains('자몽'), '자몽', df['mainIngredient'])"
      ],
      "metadata": {
        "id": "fzGT6rrQ0VHq"
      },
      "execution_count": null,
      "outputs": []
    },
    {
      "cell_type": "code",
      "source": [
        "df['mainIngredient'] = np.where(df['mainIngredient'].str.contains('상추'), '야채', df['mainIngredient'])"
      ],
      "metadata": {
        "id": "LbrH_by-0J2p"
      },
      "execution_count": null,
      "outputs": []
    },
    {
      "cell_type": "code",
      "source": [
        "df['mainIngredient'] = np.where(df['mainIngredient'].str.contains('땡초'), '고추', df['mainIngredient'])"
      ],
      "metadata": {
        "id": "9oZDkOCe_kwn"
      },
      "execution_count": null,
      "outputs": []
    },
    {
      "cell_type": "code",
      "source": [
        "df['mainIngredient'] = np.where(df['mainIngredient'].str.contains('에스프레소'), '커피', df['mainIngredient'])"
      ],
      "metadata": {
        "id": "yduLouziAb0P"
      },
      "execution_count": null,
      "outputs": []
    },
    {
      "cell_type": "code",
      "source": [
        "df['mainIngredient'] = np.where(df['mainIngredient'].str.contains('커피'), '커피', df['mainIngredient'])"
      ],
      "metadata": {
        "id": "KHwBnjZ5AnqN"
      },
      "execution_count": null,
      "outputs": []
    },
    {
      "cell_type": "code",
      "source": [
        "df['mainIngredient'] = np.where(df['mainIngredient'].str.contains('라떼'), '커피', df['mainIngredient'])"
      ],
      "metadata": {
        "id": "K3hmDjhLApTE"
      },
      "execution_count": null,
      "outputs": []
    },
    {
      "cell_type": "code",
      "source": [
        "df['mainIngredient'] = np.where(df['mainIngredient'].str.contains('그린테이','그린티'), '그린티', df['mainIngredient'])"
      ],
      "metadata": {
        "id": "QywYCp-E-qpn"
      },
      "execution_count": null,
      "outputs": []
    },
    {
      "cell_type": "code",
      "source": [
        "df['mainIngredient'] = np.where(df['mainIngredient'].str.contains('그린티'), '녹차', df['mainIngredient'])"
      ],
      "metadata": {
        "id": "CkN6yocQ_Aat"
      },
      "execution_count": null,
      "outputs": []
    },
    {
      "cell_type": "code",
      "source": [
        "df['mainIngredient'] = np.where(df['mainIngredient'].str.contains('말차'), '녹차', df['mainIngredient'])"
      ],
      "metadata": {
        "id": "aaLGC1vLD_P9"
      },
      "execution_count": null,
      "outputs": []
    },
    {
      "cell_type": "code",
      "source": [
        "#df.to_csv('/content/drive/MyDrive/trying_1.csv', index=False)"
      ],
      "metadata": {
        "id": "bG3-1EMvAqgA"
      },
      "execution_count": null,
      "outputs": []
    },
    {
      "cell_type": "code",
      "source": [
        "import pandas as pd\n",
        "\n",
        "# 데이터프레임을 생성하는 예시 코드\n",
        "# df = pd.DataFrame({'주재료': [...]})\n",
        "\n",
        "# 주재료를 가진 행 중 해당하는 값들을 '야채'로 바꿔주기\n",
        "veggie_list = [ '견과류', '아몬드', '마카다미아', '피스타치오']\n",
        "\n",
        "df.loc[df['mainIngredient'].isin(veggie_list), 'mainIngredient'] = '견과류'"
      ],
      "metadata": {
        "id": "dZEG6PJpB_Wx"
      },
      "execution_count": null,
      "outputs": []
    },
    {
      "cell_type": "code",
      "source": [
        "unique_main_ingredients = np.unique(df['mainIngredient'])\n",
        "unique_main_ingredients"
      ],
      "metadata": {
        "colab": {
          "base_uri": "https://localhost:8080/"
        },
        "id": "zceD3mPAC1Gh",
        "outputId": "c10c53e1-c231-41e8-c587-7d21005eca62"
      },
      "execution_count": null,
      "outputs": [
        {
          "output_type": "execute_result",
          "data": {
            "text/plain": [
              "array(['가금류', '갈비', '감자', '검은콩', '견과류', '계란', '고기', '곡물', '곤약', '곰', '곱창',\n",
              "       '과일', '과일류', '구마', '국수', '굴', '굴비', '기장', '김밥', '깨', '깻잎순대', '꽃',\n",
              "       '꽃맛살', '꿀', '꿩', '나물류', '내장', '냉면', '노각', '녹두', '녹말', '녹차', '단무지',\n",
              "       '단백질', '단팥', '단호박', '달팽이', '닭', '당면', '대추', '덕', '도가니', '도토리',\n",
              "       '돼지', '된장', '두부', '둘깨', '들깨', '땅콩', '떡', '라디코니', '라벤더', '라우겐',\n",
              "       '라임', '락교', '레드벨벳', '레즌', '로만밀', '로즈마리', '루이보스', '마늘', '마라', '마차',\n",
              "       '마테', '만두', '만두피', '맘모스', '맛살', '맥아', '머쉬룸', '머스카포네', '머위', '메밀',\n",
              "       '메밀묵', '메추리알', '면', '멸치', '모래집', '목초란', '무시래기', '묵', '미소시루',\n",
              "       '미숫가루', '미크스', '민들레잎', '민트', '밀가루', '밀푀유', '바닐라', '바지락', '바질',\n",
              "       '반하나', '밤', '밥', '백순대', '버거', '버거패티', '버섯', '버터', '보리', '부꾸미',\n",
              "       '부대찌개', '브로콜리', '브리또', '비름', '비스코프', '비스킷', '비지', '비타민', '빙수', '뼈',\n",
              "       '사골', '살라미', '새싹채소', '샌드위치', '생크림', '선지', '설탕', '소', '소다', '소세지',\n",
              "       '솜사탕', '수수', '수육', '숙주', '순대', '스파게티', '시나몬', '시트러스', '쌀', '아보카도',\n",
              "       '아이스크림', '아이스티', '알', '알 수 없음', '알로에', '알코올', '양미리', '어묵', '얼그레이',\n",
              "       '얼음', '연근', '연유', '오곡', '오뎅', '오리', '오이', '오트밀', '옥수수', '올갱이',\n",
              "       '올리브', '와인', '완두', '요거트', '우거지', '우동면', '우롱차', '우엉', '우유', '유부',\n",
              "       '유자', '육류', '인절미', '임연수', '자스민', '잡곡', '잡채', '잣', '쥐포', '차', '차나무',\n",
              "       '차엽', '차이티', '차잎', '참깨', '참치, 김치', '채소', '채소류', '청국장', '청포묵',\n",
              "       '초콜릿', '춘장', '치즈', '치피', '카라멜', '카모마일', '캐모마일', '커리', '커피', '콜라비',\n",
              "       '콩', '퀴노아', '크림', '타로', '타피오카', '터키', '토란', '토란대', '토마토', '통곡물',\n",
              "       '트러플', '티', '파', '파스타', '팥', '페퍼민트', '페페로니', '펜네', '피칸', '해산물',\n",
              "       '해조류', '햄', '햄버거', '허브', '헤이즐넛', '현무암', '현미', '호박오가리', '호박잎', '홍차',\n",
              "       '회', '효모', '흑미', '흑임자', '히비스커스'], dtype=object)"
            ]
          },
          "metadata": {},
          "execution_count": 171
        }
      ]
    },
    {
      "cell_type": "code",
      "source": [
        "veggie_list = [ '가오리', '가자미', '게', '광어', '꽃게', '낙지', '농어', '무생채', '문어', '미꾸라지', '방어', '벤자메', '뱅어포', '산낙지', '산마', '살몬', '새우', '송어', '숭어', '아귀', '연어', '우럭', '우렁', '우렁이', '장어', '조기', '주꾸미', '짱뚱어',  '해물', '해파리', '홍합','추어']\n",
        "\n",
        "df.loc[df['mainIngredient'].isin(veggie_list), 'mainIngredient'] = '해산물'"
      ],
      "metadata": {
        "id": "RZv8DiaBC3_l"
      },
      "execution_count": null,
      "outputs": []
    },
    {
      "cell_type": "code",
      "source": [
        "veggie_list=['명란','크랩','한치','홍어','황태','튜나','참치','코다리','해초','톳','소라','백합']\n",
        "df.loc[df['mainIngredient'].isin(veggie_list), 'mainIngredient'] = '해산물'"
      ],
      "metadata": {
        "id": "A1EoiwRODT2X"
      },
      "execution_count": null,
      "outputs": []
    },
    {
      "cell_type": "code",
      "source": [
        "veggie_list=['갈치','건갈치','게살','고등어','골뱅이','김','']\n",
        "df.loc[df['mainIngredient'].isin(veggie_list), 'mainIngredient'] = '해산물'"
      ],
      "metadata": {
        "id": "Uw8Pe2C5D-BW"
      },
      "execution_count": null,
      "outputs": []
    },
    {
      "cell_type": "code",
      "source": [
        "veggie_list=['가지','갈릭','감자','고구마','고추','고춧잎','김치','깻잎','당근','치커리','얼갈이배추','호박','후박','열무','샐러드','배추','생강','근대','무','무시레기','부추','시래기','씀바귀','쑥','애호박', '야채','양배추', '양파','양파와 감자']\n",
        "df.loc[df['mainIngredient'].isin(veggie_list), 'mainIngredient'] = '채소류'"
      ],
      "metadata": {
        "id": "mX-FkIxD73Ns"
      },
      "execution_count": null,
      "outputs": []
    },
    {
      "cell_type": "code",
      "source": [
        "veggie_list=['대구','대합','생선','동태','멍게','메기','병어' , '북어', '북어채', '붕어','삼치','씨푸드']\n",
        "df.loc[df['mainIngredient'].isin(veggie_list), 'mainIngredient'] = '해산물'"
      ],
      "metadata": {
        "id": "AiPuKbl08zNr"
      },
      "execution_count": null,
      "outputs": []
    },
    {
      "cell_type": "code",
      "source": [
        "veggie_list=['고들빼기','고사리','곤드레','나물','냉','더덕','도라지','도라지, 오이','두릅','미나리','시금치','아욱']\n",
        "df.loc[df['mainIngredient'].isin(veggie_list), 'mainIngredient'] = '나물류'"
      ],
      "metadata": {
        "id": "gorbu66K9v_t"
      },
      "execution_count": null,
      "outputs": []
    },
    {
      "cell_type": "code",
      "source": [
        "veggie_list=['꽃','꽃잎']\n",
        "df.loc[df['mainIngredient'].isin(veggie_list), 'mainIngredient'] = '꽃'"
      ],
      "metadata": {
        "id": "jnIM_7-qBNo5"
      },
      "execution_count": null,
      "outputs": []
    },
    {
      "cell_type": "code",
      "source": [
        "veggie_list=['깔라만시','레몬','딸기','망고','바나나','메론','멜론','모과','배','베리','복숭아','수박','아마레나 체리','애플','오렌지','워터멜론','윈터멜론','자두','자몽','천혜향','청귤','체리','코코넛','키위','파인애플','한라봉','홍시']\n",
        "df.loc[df['mainIngredient'].isin(veggie_list), 'mainIngredient'] = '과일류'"
      ],
      "metadata": {
        "id": "ZPRnPaLqBh51"
      },
      "execution_count": null,
      "outputs": []
    },
    {
      "cell_type": "code",
      "source": [
        "veggie_list=['다시마','미역','매생이']\n",
        "df.loc[df['mainIngredient'].isin(veggie_list), 'mainIngredient'] = '해조류'"
      ],
      "metadata": {
        "id": "dyNky3vFCGlU"
      },
      "execution_count": null,
      "outputs": []
    },
    {
      "cell_type": "code",
      "source": [
        "veggie_list=['냉이','달래']\n",
        "df.loc[df['mainIngredient'].isin(veggie_list), 'mainIngredient'] = '나물류'"
      ],
      "metadata": {
        "id": "WrksDtwgCMwj"
      },
      "execution_count": null,
      "outputs": []
    },
    {
      "cell_type": "code",
      "source": [
        "veggie_list=['로즈마리','로즈자스민','로즈힙']\n",
        "df.loc[df['mainIngredient'].isin(veggie_list), 'mainIngredient'] = '로즈마리'"
      ],
      "metadata": {
        "id": "2NDPf43XDuri"
      },
      "execution_count": null,
      "outputs": []
    },
    {
      "cell_type": "code",
      "source": [
        "veggie_list=['한라봉, 스콘믹스','프렛즐','프레즐','토르티야','타코','타르트, 티라미수','크루아상','크로와상','크레이프', '크레페','쿠키','케이크믹스','케이크','와플','브리오슈','부기브레드','바게트','밀','도우','도넛']\n",
        "df.loc[df['mainIngredient'].isin(veggie_list), 'mainIngredient'] = '밀가루'"
      ],
      "metadata": {
        "id": "7em0d2a_DzmU"
      },
      "execution_count": null,
      "outputs": []
    },
    {
      "cell_type": "code",
      "source": [
        "veggie_list=['파래']\n",
        "df.loc[df['mainIngredient'].isin(veggie_list), 'mainIngredient'] = '해조류'"
      ],
      "metadata": {
        "id": "EqURksUCMfoR"
      },
      "execution_count": null,
      "outputs": []
    },
    {
      "cell_type": "code",
      "source": [
        "veggie_list=['가루']\n",
        "df.loc[df['mainIngredient'].isin(veggie_list), 'mainIngredient'] = '밀가루'"
      ],
      "metadata": {
        "id": "Cdpehc0FN0nF"
      },
      "execution_count": null,
      "outputs": []
    },
    {
      "cell_type": "code",
      "source": [
        "df['mainIngredient'] = np.where(df['mainIngredient'].str.contains('마늘'), '마늘', df['mainIngredient'])"
      ],
      "metadata": {
        "id": "S8446r39OlEN"
      },
      "execution_count": null,
      "outputs": []
    },
    {
      "cell_type": "code",
      "source": [
        "df['mainIngredient'] = np.where(df['mainIngredient'].str.contains('마카롱'), '마카롱', df['mainIngredient'])"
      ],
      "metadata": {
        "id": "QdBDhfIwOpLO"
      },
      "execution_count": null,
      "outputs": []
    },
    {
      "cell_type": "code",
      "source": [
        "veggie_list=['달고나','흑당']\n",
        "df.loc[df['mainIngredient'].isin(veggie_list), 'mainIngredient'] = '설탕'"
      ],
      "metadata": {
        "id": "np5P3rCcPEBS"
      },
      "execution_count": null,
      "outputs": []
    },
    {
      "cell_type": "code",
      "source": [
        "veggie_list=['감귤']\n",
        "df.loc[df['mainIngredient'].isin(veggie_list), 'mainIngredient'] = '과일류'"
      ],
      "metadata": {
        "id": "HNRVeCLZPRWE"
      },
      "execution_count": null,
      "outputs": []
    },
    {
      "cell_type": "code",
      "source": [
        "df['mainIngredient'] = np.where(df['mainIngredient'].str.contains('마라'), '마라', df['mainIngredient'])"
      ],
      "metadata": {
        "id": "6K26McSqPWVw"
      },
      "execution_count": null,
      "outputs": []
    },
    {
      "cell_type": "code",
      "source": [
        "veggie_list=['파이도우', '파이반죽', '파이생지','라면','빵','마카롱','머핀믹스','베이글','브라우니']\n",
        "df.loc[df['mainIngredient'].isin(veggie_list), 'mainIngredient'] = '밀가루'"
      ],
      "metadata": {
        "id": "kf4XdkswPlRv"
      },
      "execution_count": null,
      "outputs": []
    },
    {
      "cell_type": "code",
      "source": [
        "df['mainIngredient'] = np.where(df['mainIngredient'].str.contains('토마토'), '토마토', df['mainIngredient'])"
      ],
      "metadata": {
        "id": "zs6lMHnNQRwU"
      },
      "execution_count": null,
      "outputs": []
    },
    {
      "cell_type": "code",
      "source": [
        "veggie_list=['소세지', '소시지', '소시지, 김치']\n",
        "df.loc[df['mainIngredient'].isin(veggie_list), 'mainIngredient'] = '소세지'"
      ],
      "metadata": {
        "id": "ZKgN3q4uQTcE"
      },
      "execution_count": null,
      "outputs": []
    },
    {
      "cell_type": "code",
      "source": [
        "veggie_list=['오레오','쇼콜라']\n",
        "df.loc[df['mainIngredient'].isin(veggie_list), 'mainIngredient'] = '초콜릿'"
      ],
      "metadata": {
        "id": "rXRzjGL6RAez"
      },
      "execution_count": null,
      "outputs": []
    },
    {
      "cell_type": "code",
      "source": [
        "df['mainIngredient'] = np.where(df['mainIngredient'].str.contains('포테이토'), '감자', df['mainIngredient'])"
      ],
      "metadata": {
        "id": "cHhydvmwRLCA"
      },
      "execution_count": null,
      "outputs": []
    },
    {
      "cell_type": "code",
      "source": [
        "df['mainIngredient'] = np.where(df['mainIngredient'].str.contains('감자, 맛살'), '감자', df['mainIngredient'])"
      ],
      "metadata": {
        "id": "WbQ6IRvWRMjK"
      },
      "execution_count": null,
      "outputs": []
    },
    {
      "cell_type": "code",
      "source": [
        "df['mainIngredient'] = np.where(df['mainIngredient'].str.contains('우리밀'), '밀가루', df['mainIngredient'])"
      ],
      "metadata": {
        "id": "GCaj-AuYR0kY"
      },
      "execution_count": null,
      "outputs": []
    },
    {
      "cell_type": "code",
      "source": [
        "df['mainIngredient'] = np.where(df['mainIngredient'].str.contains('유부'), '유부', df['mainIngredient'])"
      ],
      "metadata": {
        "id": "SIZVICRVR5GT"
      },
      "execution_count": null,
      "outputs": []
    },
    {
      "cell_type": "code",
      "source": [
        "df['mainIngredient'] = np.where(df['mainIngredient'].str.contains('짜장'), '춘장', df['mainIngredient'])"
      ],
      "metadata": {
        "id": "pSDRlwvcSiYK"
      },
      "execution_count": null,
      "outputs": []
    },
    {
      "cell_type": "code",
      "source": [
        "df['mainIngredient'] = np.where(df['mainIngredient'].str.contains('피넛'), '땅콩', df['mainIngredient'])"
      ],
      "metadata": {
        "id": "ENnw5DpHSoyQ"
      },
      "execution_count": null,
      "outputs": []
    },
    {
      "cell_type": "code",
      "source": [
        "df['mainIngredient'] = np.where(df['mainIngredient'].str.contains('어묵','오뎅'), '어묵', df['mainIngredient'])"
      ],
      "metadata": {
        "id": "bLOOQiAwSsfv"
      },
      "execution_count": null,
      "outputs": []
    },
    {
      "cell_type": "code",
      "source": [
        "df['mainIngredient'] = np.where(df['mainIngredient'].str.contains('에그','알'), '계란', df['mainIngredient'])"
      ],
      "metadata": {
        "id": "_pmiNbFFS4Sc"
      },
      "execution_count": null,
      "outputs": []
    },
    {
      "cell_type": "code",
      "source": [
        "veggie_list=['한우','와규','안심','소곱창','소꼬리']\n",
        "df.loc[df['mainIngredient'].isin(veggie_list), 'mainIngredient'] = '소'"
      ],
      "metadata": {
        "id": "GJuC1ySFTWjU"
      },
      "execution_count": null,
      "outputs": []
    },
    {
      "cell_type": "code",
      "source": [
        "veggie_list=['비프','우육','차돌박이, 숙주']\n",
        "df.loc[df['mainIngredient'].isin(veggie_list), 'mainIngredient'] = '소'"
      ],
      "metadata": {
        "id": "HVVDrAI_UAHp"
      },
      "execution_count": null,
      "outputs": []
    },
    {
      "cell_type": "code",
      "source": [
        "df['mainIngredient'] = np.where(df['mainIngredient'].str.contains('오트밀'), '오트밀', df['mainIngredient'])"
      ],
      "metadata": {
        "id": "LotFEJliUdok"
      },
      "execution_count": null,
      "outputs": []
    },
    {
      "cell_type": "code",
      "source": [
        "veggie_list=['피치', '피치플럼','포도','사과','석류']\n",
        "df.loc[df['mainIngredient'].isin(veggie_list), 'mainIngredient'] = '과일류'"
      ],
      "metadata": {
        "id": "1f8uD7MJUfd4"
      },
      "execution_count": null,
      "outputs": []
    },
    {
      "cell_type": "code",
      "source": [
        "veggie_list=['제육','베이컨','돈까스', '돈사골', '돈육',]\n",
        "df.loc[df['mainIngredient'].isin(veggie_list), 'mainIngredient'] = '돼지'"
      ],
      "metadata": {
        "id": "NhdeXpc8VH5-"
      },
      "execution_count": null,
      "outputs": []
    },
    {
      "cell_type": "code",
      "source": [
        "veggie_list=['페파로니', '페퍼로니','페페로니']\n",
        "df.loc[df['mainIngredient'].isin(veggie_list), 'mainIngredient'] = '페페로니'"
      ],
      "metadata": {
        "id": "ekIKQ-MLVVSY"
      },
      "execution_count": null,
      "outputs": []
    },
    {
      "cell_type": "code",
      "source": [
        "veggie_list=['재첩', '전복', '조개', '조갯살','오징어', '꼬막','꽁치']\n",
        "df.loc[df['mainIngredient'].isin(veggie_list), 'mainIngredient'] = '해산물'"
      ],
      "metadata": {
        "id": "3aBmSff7VZpM"
      },
      "execution_count": null,
      "outputs": []
    },
    {
      "cell_type": "code",
      "source": [
        "veggie_list=['풀드포크', '프로슈토']\n",
        "df.loc[df['mainIngredient'].isin(veggie_list), 'mainIngredient'] = '돼지'"
      ],
      "metadata": {
        "id": "-3FZcRgeWoY2"
      },
      "execution_count": null,
      "outputs": []
    },
    {
      "cell_type": "code",
      "source": [
        "veggie_list=['파마산','모짜렐라','마스카포네','리코타, 과일']\n",
        "df.loc[df['mainIngredient'].isin(veggie_list), 'mainIngredient'] = '치즈'"
      ],
      "metadata": {
        "id": "AnIGTW-wWyNu"
      },
      "execution_count": null,
      "outputs": []
    },
    {
      "cell_type": "code",
      "source": [
        "df['mainIngredient'] = np.where(df['mainIngredient'].str.contains('팝콘'), '옥수수', df['mainIngredient'])"
      ],
      "metadata": {
        "id": "SQBIjd1iXYXf"
      },
      "execution_count": null,
      "outputs": []
    },
    {
      "cell_type": "code",
      "source": [
        "df['mainIngredient'] = np.where(df['mainIngredient'].str.contains('눈꽃빙수'), '우유', df['mainIngredient'])"
      ],
      "metadata": {
        "id": "D-bIt1wZXc5b"
      },
      "execution_count": null,
      "outputs": []
    },
    {
      "cell_type": "code",
      "source": [
        "df['mainIngredient'] = np.where(df['mainIngredient'].str.contains('연근'), '연근', df['mainIngredient'])"
      ],
      "metadata": {
        "id": "J0jKOHJ-XgXa"
      },
      "execution_count": null,
      "outputs": []
    },
    {
      "cell_type": "code",
      "source": [
        "veggie_list=['초코','카카오','코코아']\n",
        "df.loc[df['mainIngredient'].isin(veggie_list), 'mainIngredient'] = '초콜릿'"
      ],
      "metadata": {
        "id": "iY8EuMj6YJXG"
      },
      "execution_count": null,
      "outputs": []
    },
    {
      "cell_type": "code",
      "source": [
        "df['mainIngredient'] = np.where(df['mainIngredient'].str.contains('얼그레이'), '얼그레이', df['mainIngredient'])"
      ],
      "metadata": {
        "id": "uSlew3iSYo-Q"
      },
      "execution_count": null,
      "outputs": []
    },
    {
      "cell_type": "code",
      "source": [
        "df['mainIngredient'] = np.where(df['mainIngredient'].str.contains('후랑크'), '소세지', df['mainIngredient'])"
      ],
      "metadata": {
        "id": "BeDzUifxZNpT"
      },
      "execution_count": null,
      "outputs": []
    },
    {
      "cell_type": "code",
      "source": [
        "df['mainIngredient'] = np.where(df['mainIngredient'].str.contains('피자'), '밀가루', df['mainIngredient'])"
      ],
      "metadata": {
        "id": "F1fkar2CZZUU"
      },
      "execution_count": null,
      "outputs": []
    },
    {
      "cell_type": "code",
      "source": [
        "df['mainIngredient'] = np.where(df['mainIngredient'].str.contains('핫도그'), '밀가루', df['mainIngredient'])"
      ],
      "metadata": {
        "id": "Y2RK1M-VZjZ8"
      },
      "execution_count": null,
      "outputs": []
    },
    {
      "cell_type": "code",
      "source": [
        "df['mainIngredient'] = np.where(df['mainIngredient'].str.contains('통밀'), '밀가루', df['mainIngredient'])"
      ],
      "metadata": {
        "id": "YrBvWvPvZnFq"
      },
      "execution_count": null,
      "outputs": []
    },
    {
      "cell_type": "code",
      "source": [
        "df['mainIngredient'] = np.where(df['mainIngredient'].str.contains('토스트'), '밀가루', df['mainIngredient'])"
      ],
      "metadata": {
        "id": "6Pv4mvIVZq9q"
      },
      "execution_count": null,
      "outputs": []
    },
    {
      "cell_type": "code",
      "source": [
        "veggie_list=['회']\n",
        "df.loc[df['mainIngredient'].isin(veggie_list), 'mainIngredient'] = '해산물'"
      ],
      "metadata": {
        "id": "NLHFYSllZt1r"
      },
      "execution_count": null,
      "outputs": []
    },
    {
      "cell_type": "code",
      "source": [
        "cm = np.unique(df['cookingMethod'])\n",
        "cm"
      ],
      "metadata": {
        "colab": {
          "base_uri": "https://localhost:8080/"
        },
        "id": "RWydky-Ea-Nd",
        "outputId": "0a8bca74-fa45-4f17-cc9c-ae4a10ef3fdf"
      },
      "execution_count": null,
      "outputs": [
        {
          "output_type": "execute_result",
          "data": {
            "text/plain": [
              "array(['굽기', '끓이기', '로스팅', '무치기', '믹싱', '볶기', '부치기', '블렌딩', '알 수 없음',\n",
              "       '저미기', '찌기', '튀기기', '회', '훈제'], dtype=object)"
            ]
          },
          "metadata": {},
          "execution_count": 182
        }
      ]
    },
    {
      "cell_type": "code",
      "source": [
        "veggie_list=['블렌디드','블렌딩']\n",
        "df.loc[df['cookingMethod'].isin(veggie_list), 'cookingMethod'] = '블렌딩'"
      ],
      "metadata": {
        "id": "DNSVC-R_bVbU"
      },
      "execution_count": null,
      "outputs": []
    },
    {
      "cell_type": "code",
      "source": [
        "veggie_list=['부치기', '부침기']\n",
        "df.loc[df['cookingMethod'].isin(veggie_list), 'cookingMethod'] = '부치기'"
      ],
      "metadata": {
        "id": "GqWvlOlAbyyL"
      },
      "execution_count": null,
      "outputs": []
    },
    {
      "cell_type": "code",
      "source": [
        "veggie_list=[ '믹서기', '믹싱']\n",
        "df.loc[df['cookingMethod'].isin(veggie_list), 'cookingMethod'] = '믹싱'"
      ],
      "metadata": {
        "id": "WC1WC7JGcgYy"
      },
      "execution_count": null,
      "outputs": []
    },
    {
      "cell_type": "code",
      "source": [
        "df.to_csv('/content/drive/MyDrive/trying_2.csv', index=False)"
      ],
      "metadata": {
        "id": "uaph2OSCdH96"
      },
      "execution_count": null,
      "outputs": []
    },
    {
      "cell_type": "code",
      "source": [],
      "metadata": {
        "id": "KZ_fMYs5dfsS"
      },
      "execution_count": null,
      "outputs": []
    }
  ]
}