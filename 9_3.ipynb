{
  "nbformat": 4,
  "nbformat_minor": 0,
  "metadata": {
    "colab": {
      "provenance": [],
      "gpuType": "T4",
      "include_colab_link": true
    },
    "kernelspec": {
      "name": "python3",
      "display_name": "Python 3"
    },
    "language_info": {
      "name": "python"
    },
    "accelerator": "GPU"
  },
  "cells": [
    {
      "cell_type": "markdown",
      "metadata": {
        "id": "view-in-github",
        "colab_type": "text"
      },
      "source": [
        "<a href=\"https://colab.research.google.com/github/ManG0A2/MLP-class/blob/main/9_3.ipynb\" target=\"_parent\"><img src=\"https://colab.research.google.com/assets/colab-badge.svg\" alt=\"Open In Colab\"/></a>"
      ]
    },
    {
      "cell_type": "markdown",
      "source": [
        "9-3"
      ],
      "metadata": {
        "id": "p8merF-7WG-8"
      }
    },
    {
      "cell_type": "code",
      "execution_count": 1,
      "metadata": {
        "colab": {
          "base_uri": "https://localhost:8080/"
        },
        "id": "_XTWGnXhOPLJ",
        "outputId": "48787b06-fc22-44fc-8700-9f62bed28321"
      },
      "outputs": [
        {
          "output_type": "stream",
          "name": "stdout",
          "text": [
            "Downloading data from https://storage.googleapis.com/tensorflow/tf-keras-datasets/imdb.npz\n",
            "17464789/17464789 [==============================] - 2s 0us/step\n"
          ]
        }
      ],
      "source": [
        "from tensorflow.keras.datasets import imdb\n",
        "from sklearn.model_selection import train_test_split\n",
        "\n",
        "(train_input ,train_target), (test_input, test_target) = imdb.load_data(num_words=500)\n",
        "\n",
        "train_input, val_input, train_target, val_target = train_test_split(\n",
        "    train_input, train_target, test_size=0.2, random_state=42)"
      ]
    },
    {
      "cell_type": "code",
      "source": [
        "from tensorflow.keras.preprocessing.sequence import pad_sequences\n",
        "train_seq = pad_sequences(train_input, maxlen=100)\n",
        "val_seq = pad_sequences(val_input, maxlen=100)"
      ],
      "metadata": {
        "id": "Wl9Uf0PMOTvZ"
      },
      "execution_count": 2,
      "outputs": []
    },
    {
      "cell_type": "code",
      "source": [
        "from tensorflow import keras\n",
        "\n",
        "\n",
        "model = keras.Sequential()\n",
        "model.add(keras.layers.Embedding(500, 16, input_length=100))\n",
        "model.add(keras.layers.LSTM(8))\n",
        "model.add(keras.layers.Dense(1, activation='sigmoid'))"
      ],
      "metadata": {
        "id": "hCqL6bITOZAZ"
      },
      "execution_count": 3,
      "outputs": []
    },
    {
      "cell_type": "code",
      "source": [
        "model.summary()\n"
      ],
      "metadata": {
        "colab": {
          "base_uri": "https://localhost:8080/"
        },
        "id": "B37MqqHVOe9-",
        "outputId": "ba31cc89-81d4-4d0d-f566-50c39ffe3e2e"
      },
      "execution_count": 4,
      "outputs": [
        {
          "output_type": "stream",
          "name": "stdout",
          "text": [
            "Model: \"sequential\"\n",
            "_________________________________________________________________\n",
            " Layer (type)                Output Shape              Param #   \n",
            "=================================================================\n",
            " embedding (Embedding)       (None, 100, 16)           8000      \n",
            "                                                                 \n",
            " lstm (LSTM)                 (None, 8)                 800       \n",
            "                                                                 \n",
            " dense (Dense)               (None, 1)                 9         \n",
            "                                                                 \n",
            "=================================================================\n",
            "Total params: 8809 (34.41 KB)\n",
            "Trainable params: 8809 (34.41 KB)\n",
            "Non-trainable params: 0 (0.00 Byte)\n",
            "_________________________________________________________________\n"
          ]
        }
      ]
    },
    {
      "cell_type": "code",
      "source": [
        "rmsprop = keras.optimizers.RMSprop(learning_rate=1e-4)\n",
        "model.compile(optimizer=rmsprop, loss='binary_crossentropy',\n",
        "             metrics=['accuracy'])\n",
        "\n",
        "checkpoint_cb = keras.callbacks.ModelCheckpoint('best-lstm-model.h5')\n",
        "\n",
        "early_stopping_cb = keras.callbacks.EarlyStopping(patience=3,\n",
        "                                                 restore_best_weights=True)\n",
        "\n",
        "history = model.fit(train_seq, train_target, epochs=30, batch_size=64,\n",
        "                   validation_data=(val_seq, val_target),\n",
        "                    callbacks=[checkpoint_cb, early_stopping_cb])"
      ],
      "metadata": {
        "colab": {
          "base_uri": "https://localhost:8080/"
        },
        "id": "qB8PWMyIOg7l",
        "outputId": "6681e390-76a0-4a15-f087-938a0f574b7b"
      },
      "execution_count": 5,
      "outputs": [
        {
          "output_type": "stream",
          "name": "stdout",
          "text": [
            "Epoch 1/30\n",
            "313/313 [==============================] - 15s 25ms/step - loss: 0.6926 - accuracy: 0.5321 - val_loss: 0.6917 - val_accuracy: 0.5714\n",
            "Epoch 2/30\n",
            "  9/313 [..............................] - ETA: 3s - loss: 0.6915 - accuracy: 0.6024"
          ]
        },
        {
          "output_type": "stream",
          "name": "stderr",
          "text": [
            "/usr/local/lib/python3.10/dist-packages/keras/src/engine/training.py:3079: UserWarning: You are saving your model as an HDF5 file via `model.save()`. This file format is considered legacy. We recommend using instead the native Keras format, e.g. `model.save('my_model.keras')`.\n",
            "  saving_api.save_model(\n"
          ]
        },
        {
          "output_type": "stream",
          "name": "stdout",
          "text": [
            "313/313 [==============================] - 3s 10ms/step - loss: 0.6901 - accuracy: 0.6086 - val_loss: 0.6872 - val_accuracy: 0.6442\n",
            "Epoch 3/30\n",
            "313/313 [==============================] - 3s 9ms/step - loss: 0.6690 - accuracy: 0.6683 - val_loss: 0.6393 - val_accuracy: 0.6736\n",
            "Epoch 4/30\n",
            "313/313 [==============================] - 3s 10ms/step - loss: 0.6255 - accuracy: 0.6825 - val_loss: 0.6153 - val_accuracy: 0.6932\n",
            "Epoch 5/30\n",
            "313/313 [==============================] - 4s 12ms/step - loss: 0.6038 - accuracy: 0.7093 - val_loss: 0.5974 - val_accuracy: 0.7156\n",
            "Epoch 6/30\n",
            "313/313 [==============================] - 3s 11ms/step - loss: 0.5859 - accuracy: 0.7290 - val_loss: 0.5825 - val_accuracy: 0.7190\n",
            "Epoch 7/30\n",
            "313/313 [==============================] - 3s 9ms/step - loss: 0.5714 - accuracy: 0.7408 - val_loss: 0.5696 - val_accuracy: 0.7334\n",
            "Epoch 8/30\n",
            "313/313 [==============================] - 3s 9ms/step - loss: 0.5578 - accuracy: 0.7498 - val_loss: 0.5643 - val_accuracy: 0.7354\n",
            "Epoch 9/30\n",
            "313/313 [==============================] - 3s 10ms/step - loss: 0.5449 - accuracy: 0.7576 - val_loss: 0.5450 - val_accuracy: 0.7534\n",
            "Epoch 10/30\n",
            "313/313 [==============================] - 4s 12ms/step - loss: 0.5322 - accuracy: 0.7649 - val_loss: 0.5339 - val_accuracy: 0.7596\n",
            "Epoch 11/30\n",
            "313/313 [==============================] - 3s 10ms/step - loss: 0.5204 - accuracy: 0.7722 - val_loss: 0.5241 - val_accuracy: 0.7592\n",
            "Epoch 12/30\n",
            "313/313 [==============================] - 3s 11ms/step - loss: 0.5091 - accuracy: 0.7775 - val_loss: 0.5148 - val_accuracy: 0.7670\n",
            "Epoch 13/30\n",
            "313/313 [==============================] - 3s 10ms/step - loss: 0.4980 - accuracy: 0.7828 - val_loss: 0.5060 - val_accuracy: 0.7672\n",
            "Epoch 14/30\n",
            "313/313 [==============================] - 4s 12ms/step - loss: 0.4884 - accuracy: 0.7875 - val_loss: 0.4949 - val_accuracy: 0.7802\n",
            "Epoch 15/30\n",
            "313/313 [==============================] - 3s 9ms/step - loss: 0.4788 - accuracy: 0.7932 - val_loss: 0.4866 - val_accuracy: 0.7816\n",
            "Epoch 16/30\n",
            "313/313 [==============================] - 3s 8ms/step - loss: 0.4705 - accuracy: 0.7969 - val_loss: 0.4789 - val_accuracy: 0.7888\n",
            "Epoch 17/30\n",
            "313/313 [==============================] - 3s 9ms/step - loss: 0.4632 - accuracy: 0.7982 - val_loss: 0.4730 - val_accuracy: 0.7922\n",
            "Epoch 18/30\n",
            "313/313 [==============================] - 3s 10ms/step - loss: 0.4566 - accuracy: 0.7995 - val_loss: 0.4685 - val_accuracy: 0.7872\n",
            "Epoch 19/30\n",
            "313/313 [==============================] - 3s 10ms/step - loss: 0.4509 - accuracy: 0.8043 - val_loss: 0.4639 - val_accuracy: 0.7916\n",
            "Epoch 20/30\n",
            "313/313 [==============================] - 3s 8ms/step - loss: 0.4457 - accuracy: 0.8048 - val_loss: 0.4578 - val_accuracy: 0.7962\n",
            "Epoch 21/30\n",
            "313/313 [==============================] - 3s 9ms/step - loss: 0.4412 - accuracy: 0.8063 - val_loss: 0.4541 - val_accuracy: 0.7984\n",
            "Epoch 22/30\n",
            "313/313 [==============================] - 3s 9ms/step - loss: 0.4370 - accuracy: 0.8065 - val_loss: 0.4510 - val_accuracy: 0.7996\n",
            "Epoch 23/30\n",
            "313/313 [==============================] - 4s 12ms/step - loss: 0.4335 - accuracy: 0.8076 - val_loss: 0.4483 - val_accuracy: 0.8004\n",
            "Epoch 24/30\n",
            "313/313 [==============================] - 3s 10ms/step - loss: 0.4302 - accuracy: 0.8092 - val_loss: 0.4463 - val_accuracy: 0.8012\n",
            "Epoch 25/30\n",
            "313/313 [==============================] - 3s 8ms/step - loss: 0.4272 - accuracy: 0.8094 - val_loss: 0.4430 - val_accuracy: 0.8000\n",
            "Epoch 26/30\n",
            "313/313 [==============================] - 3s 8ms/step - loss: 0.4245 - accuracy: 0.8092 - val_loss: 0.4403 - val_accuracy: 0.8006\n",
            "Epoch 27/30\n",
            "313/313 [==============================] - 3s 9ms/step - loss: 0.4221 - accuracy: 0.8115 - val_loss: 0.4416 - val_accuracy: 0.7978\n",
            "Epoch 28/30\n",
            "313/313 [==============================] - 4s 11ms/step - loss: 0.4202 - accuracy: 0.8111 - val_loss: 0.4386 - val_accuracy: 0.8002\n",
            "Epoch 29/30\n",
            "313/313 [==============================] - 3s 10ms/step - loss: 0.4186 - accuracy: 0.8130 - val_loss: 0.4376 - val_accuracy: 0.8028\n",
            "Epoch 30/30\n",
            "313/313 [==============================] - 3s 9ms/step - loss: 0.4170 - accuracy: 0.8116 - val_loss: 0.4346 - val_accuracy: 0.8014\n"
          ]
        }
      ]
    },
    {
      "cell_type": "code",
      "source": [
        "import matplotlib.pyplot as plt\n",
        "\n",
        "plt.plot(history.history['loss'])\n",
        "plt.plot(history.history['val_loss'])\n",
        "plt.xlabel('epoch')\n",
        "plt.ylabel('loss')\n",
        "plt.legend(['train', 'val'])\n",
        "plt.show()"
      ],
      "metadata": {
        "colab": {
          "base_uri": "https://localhost:8080/",
          "height": 449
        },
        "id": "chOU9BQKPBOF",
        "outputId": "1000d963-ff50-40f2-f0c3-f699461ff46b"
      },
      "execution_count": 8,
      "outputs": [
        {
          "output_type": "display_data",
          "data": {
            "text/plain": [
              "<Figure size 640x480 with 1 Axes>"
            ],
            "image/png": "[encoded data removed]"
          },
          "metadata": {}
        }
      ]
    },
    {
      "cell_type": "code",
      "source": [
        "model2 = keras.Sequential()\n",
        "model2.add(keras.layers.Embedding(500, 16, input_length=100))\n",
        "model2.add(keras.layers.LSTM(8, dropout=0.3))\n",
        "model2.add(keras.layers.Dense(1, activation='sigmoid'))"
      ],
      "metadata": {
        "id": "-Jwopt3rR4yG"
      },
      "execution_count": 9,
      "outputs": []
    },
    {
      "cell_type": "code",
      "source": [
        "rmsprop = keras.optimizers.RMSprop(learning_rate=1e-4)\n",
        "model2.compile(optimizer=rmsprop, loss='binary_crossentropy',\n",
        "             metrics=['accuracy'])\n",
        "\n",
        "checkpoint_cb = keras.callbacks.ModelCheckpoint('best-dropout-model.h5')\n",
        "\n",
        "early_stopping_cb = keras.callbacks.EarlyStopping(patience=3,\n",
        "                                                 restore_best_weights=True)\n",
        "\n",
        "history = model2.fit(train_seq, train_target, epochs=30, batch_size=64,\n",
        "                   validation_data=(val_seq, val_target),\n",
        "                    callbacks=[checkpoint_cb, early_stopping_cb])"
      ],
      "metadata": {
        "colab": {
          "base_uri": "https://localhost:8080/"
        },
        "id": "7UbbdYXuSGVm",
        "outputId": "c704af1a-250e-45fe-d6cc-e9bea82e430e"
      },
      "execution_count": 10,
      "outputs": [
        {
          "output_type": "stream",
          "name": "stdout",
          "text": [
            "Epoch 1/30\n",
            "313/313 [==============================] - 10s 21ms/step - loss: 0.6928 - accuracy: 0.5142 - val_loss: 0.6924 - val_accuracy: 0.5478\n",
            "Epoch 2/30\n",
            "313/313 [==============================] - 3s 9ms/step - loss: 0.6919 - accuracy: 0.5515 - val_loss: 0.6914 - val_accuracy: 0.5726\n",
            "Epoch 3/30\n",
            "313/313 [==============================] - 3s 8ms/step - loss: 0.6905 - accuracy: 0.5811 - val_loss: 0.6898 - val_accuracy: 0.5912\n",
            "Epoch 4/30\n",
            "313/313 [==============================] - 3s 9ms/step - loss: 0.6881 - accuracy: 0.5959 - val_loss: 0.6866 - val_accuracy: 0.6134\n",
            "Epoch 5/30\n",
            "313/313 [==============================] - 4s 13ms/step - loss: 0.6833 - accuracy: 0.6220 - val_loss: 0.6800 - val_accuracy: 0.6328\n",
            "Epoch 6/30\n",
            "313/313 [==============================] - 3s 9ms/step - loss: 0.6723 - accuracy: 0.6472 - val_loss: 0.6626 - val_accuracy: 0.6728\n",
            "Epoch 7/30\n",
            "313/313 [==============================] - 3s 9ms/step - loss: 0.6344 - accuracy: 0.6798 - val_loss: 0.6014 - val_accuracy: 0.7076\n",
            "Epoch 8/30\n",
            "313/313 [==============================] - 3s 9ms/step - loss: 0.5799 - accuracy: 0.7224 - val_loss: 0.5698 - val_accuracy: 0.7344\n",
            "Epoch 9/30\n",
            "313/313 [==============================] - 3s 11ms/step - loss: 0.5575 - accuracy: 0.7373 - val_loss: 0.5459 - val_accuracy: 0.7438\n",
            "Epoch 10/30\n",
            "313/313 [==============================] - 4s 11ms/step - loss: 0.5362 - accuracy: 0.7482 - val_loss: 0.5248 - val_accuracy: 0.7556\n",
            "Epoch 11/30\n",
            "313/313 [==============================] - 3s 8ms/step - loss: 0.5160 - accuracy: 0.7627 - val_loss: 0.5063 - val_accuracy: 0.7674\n",
            "Epoch 12/30\n",
            "313/313 [==============================] - 3s 8ms/step - loss: 0.4992 - accuracy: 0.7723 - val_loss: 0.4912 - val_accuracy: 0.7764\n",
            "Epoch 13/30\n",
            "313/313 [==============================] - 3s 9ms/step - loss: 0.4864 - accuracy: 0.7752 - val_loss: 0.4797 - val_accuracy: 0.7854\n",
            "Epoch 14/30\n",
            "313/313 [==============================] - 4s 11ms/step - loss: 0.4747 - accuracy: 0.7800 - val_loss: 0.4708 - val_accuracy: 0.7860\n",
            "Epoch 15/30\n",
            "313/313 [==============================] - 3s 10ms/step - loss: 0.4651 - accuracy: 0.7872 - val_loss: 0.4614 - val_accuracy: 0.7886\n",
            "Epoch 16/30\n",
            "313/313 [==============================] - 3s 8ms/step - loss: 0.4544 - accuracy: 0.7942 - val_loss: 0.4557 - val_accuracy: 0.7892\n",
            "Epoch 17/30\n",
            "313/313 [==============================] - 3s 9ms/step - loss: 0.4478 - accuracy: 0.7974 - val_loss: 0.4500 - val_accuracy: 0.7912\n",
            "Epoch 18/30\n",
            "313/313 [==============================] - 3s 8ms/step - loss: 0.4448 - accuracy: 0.7982 - val_loss: 0.4471 - val_accuracy: 0.7910\n",
            "Epoch 19/30\n",
            "313/313 [==============================] - 4s 11ms/step - loss: 0.4422 - accuracy: 0.7970 - val_loss: 0.4436 - val_accuracy: 0.7928\n",
            "Epoch 20/30\n",
            "313/313 [==============================] - 3s 9ms/step - loss: 0.4364 - accuracy: 0.8016 - val_loss: 0.4407 - val_accuracy: 0.7960\n",
            "Epoch 21/30\n",
            "313/313 [==============================] - 3s 8ms/step - loss: 0.4327 - accuracy: 0.8043 - val_loss: 0.4392 - val_accuracy: 0.8000\n",
            "Epoch 22/30\n",
            "313/313 [==============================] - 3s 8ms/step - loss: 0.4317 - accuracy: 0.8029 - val_loss: 0.4372 - val_accuracy: 0.7994\n",
            "Epoch 23/30\n",
            "313/313 [==============================] - 3s 9ms/step - loss: 0.4284 - accuracy: 0.8063 - val_loss: 0.4360 - val_accuracy: 0.8002\n",
            "Epoch 24/30\n",
            "313/313 [==============================] - 4s 13ms/step - loss: 0.4276 - accuracy: 0.8043 - val_loss: 0.4370 - val_accuracy: 0.7954\n",
            "Epoch 25/30\n",
            "313/313 [==============================] - 3s 9ms/step - loss: 0.4262 - accuracy: 0.8052 - val_loss: 0.4339 - val_accuracy: 0.8018\n",
            "Epoch 26/30\n",
            "313/313 [==============================] - 3s 9ms/step - loss: 0.4242 - accuracy: 0.8069 - val_loss: 0.4367 - val_accuracy: 0.7954\n",
            "Epoch 27/30\n",
            "313/313 [==============================] - 3s 8ms/step - loss: 0.4223 - accuracy: 0.8086 - val_loss: 0.4340 - val_accuracy: 0.8014\n",
            "Epoch 28/30\n",
            "313/313 [==============================] - 3s 9ms/step - loss: 0.4229 - accuracy: 0.8059 - val_loss: 0.4319 - val_accuracy: 0.7984\n",
            "Epoch 29/30\n",
            "313/313 [==============================] - 4s 11ms/step - loss: 0.4185 - accuracy: 0.8106 - val_loss: 0.4317 - val_accuracy: 0.7980\n",
            "Epoch 30/30\n",
            "313/313 [==============================] - 3s 8ms/step - loss: 0.4183 - accuracy: 0.8095 - val_loss: 0.4337 - val_accuracy: 0.7984\n"
          ]
        }
      ]
    },
    {
      "cell_type": "code",
      "source": [
        "plt.plot(history.history['loss'])\n",
        "plt.plot(history.history['val_loss'])\n",
        "plt.xlabel('epoch')\n",
        "plt.ylabel('loss')\n",
        "plt.legend(['train', 'val'])\n",
        "plt.show()\n"
      ],
      "metadata": {
        "id": "7yMiRwC7SIbP",
        "colab": {
          "base_uri": "https://localhost:8080/",
          "height": 449
        },
        "outputId": "650e4ba1-86a8-4246-feac-f4f973c06712"
      },
      "execution_count": 11,
      "outputs": [
        {
          "output_type": "display_data",
          "data": {
            "text/plain": [
              "<Figure size 640x480 with 1 Axes>"
            ],
            "image/png": "[encoded data removed]"
          },
          "metadata": {}
        }
      ]
    },
    {
      "cell_type": "code",
      "source": [
        "model3 = keras.Sequential()\n",
        "model3.add(keras.layers.Embedding(500, 16, input_length=100))\n",
        "model3.add(keras.layers.LSTM(8, dropout=0.3, return_sequences=True))\n",
        "model3.add(keras.layers.LSTM(8, dropout=0.3))\n",
        "model3.add(keras.layers.Dense(1, activation='sigmoid'))"
      ],
      "metadata": {
        "id": "9TnjfvGnSMMF"
      },
      "execution_count": 12,
      "outputs": []
    },
    {
      "cell_type": "code",
      "source": [
        "model3.summary()"
      ],
      "metadata": {
        "id": "3NORE-k9SSgQ",
        "colab": {
          "base_uri": "https://localhost:8080/"
        },
        "outputId": "669aa0d9-8da5-4974-d50b-09ba4bef63ea"
      },
      "execution_count": 13,
      "outputs": [
        {
          "output_type": "stream",
          "name": "stdout",
          "text": [
            "Model: \"sequential_2\"\n",
            "_________________________________________________________________\n",
            " Layer (type)                Output Shape              Param #   \n",
            "=================================================================\n",
            " embedding_2 (Embedding)     (None, 100, 16)           8000      \n",
            "                                                                 \n",
            " lstm_2 (LSTM)               (None, 100, 8)            800       \n",
            "                                                                 \n",
            " lstm_3 (LSTM)               (None, 8)                 544       \n",
            "                                                                 \n",
            " dense_2 (Dense)             (None, 1)                 9         \n",
            "                                                                 \n",
            "=================================================================\n",
            "Total params: 9353 (36.54 KB)\n",
            "Trainable params: 9353 (36.54 KB)\n",
            "Non-trainable params: 0 (0.00 Byte)\n",
            "_________________________________________________________________\n"
          ]
        }
      ]
    },
    {
      "cell_type": "code",
      "source": [
        "rmsprop = keras.optimizers.RMSprop(learning_rate=1e-4)\n",
        "model3.compile(optimizer=rmsprop, loss='binary_crossentropy',\n",
        "             metrics=['accuracy'])\n",
        "\n",
        "checkpoint_cb = keras.callbacks.ModelCheckpoint('best-2rnn-model.h5')\n",
        "\n",
        "early_stopping_cb = keras.callbacks.EarlyStopping(patience=3,\n",
        "                                                 restore_best_weights=True)\n",
        "\n",
        "history = model3.fit(train_seq, train_target, epochs=30, batch_size=64,\n",
        "                   validation_data=(val_seq, val_target),\n",
        "                    callbacks=[checkpoint_cb, early_stopping_cb])"
      ],
      "metadata": {
        "id": "rx6qjE1LSTmJ",
        "colab": {
          "base_uri": "https://localhost:8080/"
        },
        "outputId": "8b7b7b28-f97c-4ea8-b216-2282557e4097"
      },
      "execution_count": 14,
      "outputs": [
        {
          "output_type": "stream",
          "name": "stdout",
          "text": [
            "Epoch 1/30\n",
            "313/313 [==============================] - 11s 24ms/step - loss: 0.6929 - accuracy: 0.5129 - val_loss: 0.6925 - val_accuracy: 0.5712\n",
            "Epoch 2/30\n",
            "313/313 [==============================] - 5s 15ms/step - loss: 0.6917 - accuracy: 0.5699 - val_loss: 0.6904 - val_accuracy: 0.6054\n",
            "Epoch 3/30\n",
            "313/313 [==============================] - 4s 13ms/step - loss: 0.6843 - accuracy: 0.6026 - val_loss: 0.6706 - val_accuracy: 0.6784\n",
            "Epoch 4/30\n",
            "313/313 [==============================] - 4s 13ms/step - loss: 0.6352 - accuracy: 0.6783 - val_loss: 0.6080 - val_accuracy: 0.6938\n",
            "Epoch 5/30\n",
            "313/313 [==============================] - 5s 17ms/step - loss: 0.5924 - accuracy: 0.7057 - val_loss: 0.5762 - val_accuracy: 0.7166\n",
            "Epoch 6/30\n",
            "313/313 [==============================] - 4s 13ms/step - loss: 0.5612 - accuracy: 0.7266 - val_loss: 0.5416 - val_accuracy: 0.7432\n",
            "Epoch 7/30\n",
            "313/313 [==============================] - 4s 13ms/step - loss: 0.5341 - accuracy: 0.7456 - val_loss: 0.5194 - val_accuracy: 0.7550\n",
            "Epoch 8/30\n",
            "313/313 [==============================] - 5s 16ms/step - loss: 0.5155 - accuracy: 0.7573 - val_loss: 0.5044 - val_accuracy: 0.7644\n",
            "Epoch 9/30\n",
            "313/313 [==============================] - 4s 13ms/step - loss: 0.5005 - accuracy: 0.7640 - val_loss: 0.4917 - val_accuracy: 0.7702\n",
            "Epoch 10/30\n",
            "313/313 [==============================] - 4s 12ms/step - loss: 0.4917 - accuracy: 0.7712 - val_loss: 0.4843 - val_accuracy: 0.7728\n",
            "Epoch 11/30\n",
            "313/313 [==============================] - 5s 17ms/step - loss: 0.4847 - accuracy: 0.7741 - val_loss: 0.4768 - val_accuracy: 0.7790\n",
            "Epoch 12/30\n",
            "313/313 [==============================] - 4s 12ms/step - loss: 0.4743 - accuracy: 0.7807 - val_loss: 0.4807 - val_accuracy: 0.7722\n",
            "Epoch 13/30\n",
            "313/313 [==============================] - 4s 14ms/step - loss: 0.4703 - accuracy: 0.7828 - val_loss: 0.4669 - val_accuracy: 0.7830\n",
            "Epoch 14/30\n",
            "313/313 [==============================] - 5s 16ms/step - loss: 0.4677 - accuracy: 0.7844 - val_loss: 0.4621 - val_accuracy: 0.7858\n",
            "Epoch 15/30\n",
            "313/313 [==============================] - 4s 13ms/step - loss: 0.4597 - accuracy: 0.7895 - val_loss: 0.4605 - val_accuracy: 0.7860\n",
            "Epoch 16/30\n",
            "313/313 [==============================] - 4s 12ms/step - loss: 0.4583 - accuracy: 0.7885 - val_loss: 0.4683 - val_accuracy: 0.7830\n",
            "Epoch 17/30\n",
            "313/313 [==============================] - 5s 15ms/step - loss: 0.4522 - accuracy: 0.7919 - val_loss: 0.4559 - val_accuracy: 0.7854\n",
            "Epoch 18/30\n",
            "313/313 [==============================] - 4s 14ms/step - loss: 0.4499 - accuracy: 0.7926 - val_loss: 0.4527 - val_accuracy: 0.7882\n",
            "Epoch 19/30\n",
            "313/313 [==============================] - 4s 12ms/step - loss: 0.4479 - accuracy: 0.7944 - val_loss: 0.4529 - val_accuracy: 0.7880\n",
            "Epoch 20/30\n",
            "313/313 [==============================] - 4s 13ms/step - loss: 0.4451 - accuracy: 0.7970 - val_loss: 0.4493 - val_accuracy: 0.7904\n",
            "Epoch 21/30\n",
            "313/313 [==============================] - 5s 16ms/step - loss: 0.4436 - accuracy: 0.7959 - val_loss: 0.4473 - val_accuracy: 0.7910\n",
            "Epoch 22/30\n",
            "313/313 [==============================] - 4s 12ms/step - loss: 0.4409 - accuracy: 0.7972 - val_loss: 0.4457 - val_accuracy: 0.7900\n",
            "Epoch 23/30\n",
            "313/313 [==============================] - 4s 13ms/step - loss: 0.4389 - accuracy: 0.8013 - val_loss: 0.4451 - val_accuracy: 0.7948\n",
            "Epoch 24/30\n",
            "313/313 [==============================] - 5s 17ms/step - loss: 0.4375 - accuracy: 0.7990 - val_loss: 0.4432 - val_accuracy: 0.7946\n",
            "Epoch 25/30\n",
            "313/313 [==============================] - 4s 12ms/step - loss: 0.4366 - accuracy: 0.7965 - val_loss: 0.4434 - val_accuracy: 0.7950\n",
            "Epoch 26/30\n",
            "313/313 [==============================] - 4s 12ms/step - loss: 0.4341 - accuracy: 0.8005 - val_loss: 0.4421 - val_accuracy: 0.7964\n",
            "Epoch 27/30\n",
            "313/313 [==============================] - 5s 15ms/step - loss: 0.4348 - accuracy: 0.7990 - val_loss: 0.4406 - val_accuracy: 0.7966\n",
            "Epoch 28/30\n",
            "313/313 [==============================] - 4s 14ms/step - loss: 0.4312 - accuracy: 0.8023 - val_loss: 0.4424 - val_accuracy: 0.7908\n",
            "Epoch 29/30\n",
            "313/313 [==============================] - 4s 12ms/step - loss: 0.4329 - accuracy: 0.8012 - val_loss: 0.4393 - val_accuracy: 0.7944\n",
            "Epoch 30/30\n",
            "313/313 [==============================] - 4s 13ms/step - loss: 0.4298 - accuracy: 0.8023 - val_loss: 0.4383 - val_accuracy: 0.7948\n"
          ]
        }
      ]
    },
    {
      "cell_type": "code",
      "source": [
        "plt.plot(history.history['loss'])\n",
        "plt.plot(history.history['val_loss'])\n",
        "plt.xlabel('epoch')\n",
        "plt.ylabel('loss')\n",
        "plt.legend(['train', 'val'])\n",
        "plt.show()"
      ],
      "metadata": {
        "id": "U7y3iS16SWe2",
        "colab": {
          "base_uri": "https://localhost:8080/",
          "height": 449
        },
        "outputId": "9748d099-c59c-4a1e-ed10-609b0bc10aea"
      },
      "execution_count": 15,
      "outputs": [
        {
          "output_type": "display_data",
          "data": {
            "text/plain": [
              "<Figure size 640x480 with 1 Axes>"
            ],
            "image/png": "[encoded data removed]"
          },
          "metadata": {}
        }
      ]
    },
    {
      "cell_type": "code",
      "source": [
        "model4 = keras.Sequential()\n",
        "model4.add(keras.layers.Embedding(500, 16, input_length=100))\n",
        "model4.add(keras.layers.GRU(8))\n",
        "model4.add(keras.layers.Dense(1, activation='sigmoid'))\n"
      ],
      "metadata": {
        "id": "n9reAIahSYLN"
      },
      "execution_count": 16,
      "outputs": []
    },
    {
      "cell_type": "code",
      "source": [
        "model4.summary()\n"
      ],
      "metadata": {
        "id": "rK_129wcSa0k",
        "colab": {
          "base_uri": "https://localhost:8080/"
        },
        "outputId": "9642f544-aafc-4cad-d37d-1f3def257a97"
      },
      "execution_count": 17,
      "outputs": [
        {
          "output_type": "stream",
          "name": "stdout",
          "text": [
            "Model: \"sequential_3\"\n",
            "_________________________________________________________________\n",
            " Layer (type)                Output Shape              Param #   \n",
            "=================================================================\n",
            " embedding_3 (Embedding)     (None, 100, 16)           8000      \n",
            "                                                                 \n",
            " gru (GRU)                   (None, 8)                 624       \n",
            "                                                                 \n",
            " dense_3 (Dense)             (None, 1)                 9         \n",
            "                                                                 \n",
            "=================================================================\n",
            "Total params: 8633 (33.72 KB)\n",
            "Trainable params: 8633 (33.72 KB)\n",
            "Non-trainable params: 0 (0.00 Byte)\n",
            "_________________________________________________________________\n"
          ]
        }
      ]
    },
    {
      "cell_type": "code",
      "source": [
        "rmsprop = keras.optimizers.RMSprop(learning_rate=1e-4)\n",
        "model4.compile(optimizer=rmsprop, loss='binary_crossentropy',\n",
        "             metrics=['accuracy'])\n",
        "\n",
        "checkpoint_cb = keras.callbacks.ModelCheckpoint('best-gru-model.h5')\n",
        "\n",
        "early_stopping_cb = keras.callbacks.EarlyStopping(patience=3,\n",
        "                                                 restore_best_weights=True)\n",
        "\n",
        "history = model4.fit(train_seq, train_target, epochs=30, batch_size=64,\n",
        "                   validation_data=(val_seq, val_target),\n",
        "                    callbacks=[checkpoint_cb, early_stopping_cb])"
      ],
      "metadata": {
        "id": "A3aL6AzyScse",
        "colab": {
          "base_uri": "https://localhost:8080/"
        },
        "outputId": "caa3a02f-f891-45ec-d61c-62e50f3bb502"
      },
      "execution_count": 18,
      "outputs": [
        {
          "output_type": "stream",
          "name": "stdout",
          "text": [
            "Epoch 1/30\n",
            "313/313 [==============================] - 8s 16ms/step - loss: 0.6923 - accuracy: 0.5320 - val_loss: 0.6916 - val_accuracy: 0.5558\n",
            "Epoch 2/30\n",
            "313/313 [==============================] - 3s 9ms/step - loss: 0.6899 - accuracy: 0.5737 - val_loss: 0.6892 - val_accuracy: 0.5756\n",
            "Epoch 3/30\n",
            "313/313 [==============================] - 3s 11ms/step - loss: 0.6864 - accuracy: 0.5992 - val_loss: 0.6853 - val_accuracy: 0.5930\n",
            "Epoch 4/30\n",
            "313/313 [==============================] - 3s 11ms/step - loss: 0.6809 - accuracy: 0.6174 - val_loss: 0.6790 - val_accuracy: 0.5996\n",
            "Epoch 5/30\n",
            "313/313 [==============================] - 3s 9ms/step - loss: 0.6725 - accuracy: 0.6290 - val_loss: 0.6698 - val_accuracy: 0.6138\n",
            "Epoch 6/30\n",
            "313/313 [==============================] - 3s 8ms/step - loss: 0.6597 - accuracy: 0.6447 - val_loss: 0.6548 - val_accuracy: 0.6398\n",
            "Epoch 7/30\n",
            "313/313 [==============================] - 3s 9ms/step - loss: 0.6392 - accuracy: 0.6649 - val_loss: 0.6303 - val_accuracy: 0.6626\n",
            "Epoch 8/30\n",
            "313/313 [==============================] - 3s 11ms/step - loss: 0.6024 - accuracy: 0.6952 - val_loss: 0.5815 - val_accuracy: 0.7038\n",
            "Epoch 9/30\n",
            "313/313 [==============================] - 3s 10ms/step - loss: 0.5352 - accuracy: 0.7390 - val_loss: 0.5169 - val_accuracy: 0.7472\n",
            "Epoch 10/30\n",
            "313/313 [==============================] - 3s 8ms/step - loss: 0.4967 - accuracy: 0.7645 - val_loss: 0.4962 - val_accuracy: 0.7612\n",
            "Epoch 11/30\n",
            "313/313 [==============================] - 3s 8ms/step - loss: 0.4808 - accuracy: 0.7752 - val_loss: 0.4855 - val_accuracy: 0.7712\n",
            "Epoch 12/30\n",
            "313/313 [==============================] - 2s 8ms/step - loss: 0.4695 - accuracy: 0.7825 - val_loss: 0.4759 - val_accuracy: 0.7756\n",
            "Epoch 13/30\n",
            "313/313 [==============================] - 3s 11ms/step - loss: 0.4603 - accuracy: 0.7905 - val_loss: 0.4690 - val_accuracy: 0.7824\n",
            "Epoch 14/30\n",
            "313/313 [==============================] - 3s 10ms/step - loss: 0.4526 - accuracy: 0.7949 - val_loss: 0.4646 - val_accuracy: 0.7836\n",
            "Epoch 15/30\n",
            "313/313 [==============================] - 3s 8ms/step - loss: 0.4465 - accuracy: 0.7994 - val_loss: 0.4602 - val_accuracy: 0.7872\n",
            "Epoch 16/30\n",
            "313/313 [==============================] - 3s 8ms/step - loss: 0.4415 - accuracy: 0.8025 - val_loss: 0.4579 - val_accuracy: 0.7918\n",
            "Epoch 17/30\n",
            "313/313 [==============================] - 3s 8ms/step - loss: 0.4373 - accuracy: 0.8055 - val_loss: 0.4559 - val_accuracy: 0.7908\n",
            "Epoch 18/30\n",
            "313/313 [==============================] - 4s 11ms/step - loss: 0.4344 - accuracy: 0.8057 - val_loss: 0.4553 - val_accuracy: 0.7922\n",
            "Epoch 19/30\n",
            "313/313 [==============================] - 3s 9ms/step - loss: 0.4315 - accuracy: 0.8081 - val_loss: 0.4562 - val_accuracy: 0.7892\n",
            "Epoch 20/30\n",
            "313/313 [==============================] - 3s 9ms/step - loss: 0.4296 - accuracy: 0.8095 - val_loss: 0.4525 - val_accuracy: 0.7902\n",
            "Epoch 21/30\n",
            "313/313 [==============================] - 2s 8ms/step - loss: 0.4273 - accuracy: 0.8122 - val_loss: 0.4515 - val_accuracy: 0.7896\n",
            "Epoch 22/30\n",
            "313/313 [==============================] - 2s 8ms/step - loss: 0.4256 - accuracy: 0.8129 - val_loss: 0.4511 - val_accuracy: 0.7896\n",
            "Epoch 23/30\n",
            "313/313 [==============================] - 4s 11ms/step - loss: 0.4241 - accuracy: 0.8126 - val_loss: 0.4538 - val_accuracy: 0.7864\n",
            "Epoch 24/30\n",
            "313/313 [==============================] - 3s 9ms/step - loss: 0.4229 - accuracy: 0.8140 - val_loss: 0.4492 - val_accuracy: 0.7918\n",
            "Epoch 25/30\n",
            "313/313 [==============================] - 2s 8ms/step - loss: 0.4218 - accuracy: 0.8131 - val_loss: 0.4493 - val_accuracy: 0.7904\n",
            "Epoch 26/30\n",
            "313/313 [==============================] - 3s 8ms/step - loss: 0.4208 - accuracy: 0.8135 - val_loss: 0.4488 - val_accuracy: 0.7910\n",
            "Epoch 27/30\n",
            "313/313 [==============================] - 3s 8ms/step - loss: 0.4198 - accuracy: 0.8159 - val_loss: 0.4483 - val_accuracy: 0.7926\n",
            "Epoch 28/30\n",
            "313/313 [==============================] - 4s 11ms/step - loss: 0.4191 - accuracy: 0.8142 - val_loss: 0.4490 - val_accuracy: 0.7942\n",
            "Epoch 29/30\n",
            "313/313 [==============================] - 3s 9ms/step - loss: 0.4186 - accuracy: 0.8146 - val_loss: 0.4460 - val_accuracy: 0.7928\n",
            "Epoch 30/30\n",
            "313/313 [==============================] - 3s 8ms/step - loss: 0.4178 - accuracy: 0.8157 - val_loss: 0.4450 - val_accuracy: 0.7938\n"
          ]
        }
      ]
    },
    {
      "cell_type": "code",
      "source": [],
      "metadata": {
        "id": "KvGcSzJ7Sd6k"
      },
      "execution_count": 18,
      "outputs": []
    }
  ]
}