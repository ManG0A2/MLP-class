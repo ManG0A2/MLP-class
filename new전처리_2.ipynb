{
  "nbformat": 4,
  "nbformat_minor": 0,
  "metadata": {
    "colab": {
      "provenance": [],
      "authorship_tag": "ABX9TyO5PR7SBMtG2bA1JbQ8vY1D",
      "include_colab_link": true
    },
    "kernelspec": {
      "name": "python3",
      "display_name": "Python 3"
    },
    "language_info": {
      "name": "python"
    }
  },
  "cells": [
    {
      "cell_type": "markdown",
      "metadata": {
        "id": "view-in-github",
        "colab_type": "text"
      },
      "source": [
        "<a href=\"https://colab.research.google.com/github/ManG0A2/MLP-class/blob/main/new%EC%A0%84%EC%B2%98%EB%A6%AC_2.ipynb\" target=\"_parent\"><img src=\"https://colab.research.google.com/assets/colab-badge.svg\" alt=\"Open In Colab\"/></a>"
      ]
    },
    {
      "cell_type": "code",
      "execution_count": null,
      "metadata": {
        "colab": {
          "base_uri": "https://localhost:8080/"
        },
        "id": "rjcAWG9JyvCt",
        "outputId": "f30f4614-1f15-45c0-b082-b7310f00cefd"
      },
      "outputs": [
        {
          "output_type": "stream",
          "name": "stdout",
          "text": [
            "Drive already mounted at /content/drive; to attempt to forcibly remount, call drive.mount(\"/content/drive\", force_remount=True).\n"
          ]
        }
      ],
      "source": [
        "from google.colab import drive\n",
        "drive.mount('/content/drive')"
      ]
    },
    {
      "cell_type": "code",
      "source": [
        "import pandas as pd\n",
        "\n",
        "# CSV 파일의 경로를 지정합니다.\n",
        "file_path = '/content/drive/MyDrive/trying_2.csv'\n",
        "\n",
        "# CSV 파일을 불러옵니다.\n",
        "df = pd.read_csv(file_path)\n",
        "\n",
        "# 데이터프레임을 출력합니다.\n",
        "df"
      ],
      "metadata": {
        "colab": {
          "base_uri": "https://localhost:8080/",
          "height": 424
        },
        "id": "nLRSalvZzFYe",
        "outputId": "023950a1-2c02-4eeb-f506-52e83c3c4d75"
      },
      "execution_count": null,
      "outputs": [
        {
          "output_type": "execute_result",
          "data": {
            "text/plain": [
              "         code       name mainFoodType detailedFoodType  servingSize  calorie  \\\n",
              "0     D018000        가래떡      곡류 및 서류               떡류          100   195.16   \n",
              "1     D018001        깨송편      곡류 및 서류               떡류          100   219.01   \n",
              "2     D018002         꿀떡      곡류 및 서류               떡류          100   228.48   \n",
              "3     D018003       모듬찰떡      곡류 및 서류               떡류          100   218.16   \n",
              "4     D018004        백설기      곡류 및 서류               떡류          100   229.50   \n",
              "...       ...        ...          ...              ...          ...      ...   \n",
              "4937  D011185  아이스 바닐라 슈           기타               기타           38   374.00   \n",
              "4938  D011186   아이스 초코 슈           기타               기타           38   410.00   \n",
              "4939  D012132    투썸뉴트리션바           기타               기타           30   125.00   \n",
              "4940  D016281      매콤김떡만           기타               기타          190   469.00   \n",
              "4941  D016282      갈릭김떡만           기타               기타          190   499.00   \n",
              "\n",
              "      protein    fat  carbohydrate  sugar  sodium  cholesterol  \\\n",
              "0        3.92   0.51         43.73   0.00  240.57          0.0   \n",
              "1        4.65   3.23         42.83   1.98  259.75          0.0   \n",
              "2        3.74   1.73         49.48   0.29  275.08          0.0   \n",
              "3        6.78   2.44         42.27   2.98  187.83          0.0   \n",
              "4        3.71   1.45         50.40   0.11  210.90          0.0   \n",
              "...       ...    ...           ...    ...     ...          ...   \n",
              "4937     4.00   4.00          7.00   8.00  138.00          NaN   \n",
              "4938     4.00   4.00          7.00  11.00  130.00          NaN   \n",
              "4939     6.00  10.00         20.00   7.00   50.00          NaN   \n",
              "4940    10.00   3.00          5.00   5.00  848.00          NaN   \n",
              "4941     7.00   4.00          4.00  18.00  458.00          NaN   \n",
              "\n",
              "      saturatedFattyAcid  transFattyAcid taste mainIngredient  \\\n",
              "0                   0.19             0.0  담백한맛              쌀   \n",
              "1                   0.62             0.0    단맛              깨   \n",
              "2                   0.30             0.0    단맛              쌀   \n",
              "3                   0.28             0.0    단맛              쌀   \n",
              "4                   0.12             0.0    단맛              팥   \n",
              "...                  ...             ...   ...            ...   \n",
              "4937               17.00             NaN    단맛            바닐라   \n",
              "4938               15.00             NaN    단맛            초콜릿   \n",
              "4939                0.50             NaN    단맛            초콜릿   \n",
              "4940                3.00             NaN   매운맛            채소류   \n",
              "4941                2.00             NaN   매운맛            채소류   \n",
              "\n",
              "     secondaryIngredient cookingMethod allergens  \n",
              "0                     설탕            굽기        없음  \n",
              "1                    깨소금            굽기         깨  \n",
              "2                      꿀            찌기        없음  \n",
              "3                     설탕           끓이기        없음  \n",
              "4                      팥           끓이기        없음  \n",
              "...                  ...           ...       ...  \n",
              "4937                 바닐라            굽기        없음  \n",
              "4938                 초콜릿            굽기       초콜릿  \n",
              "4939                 초콜릿        알 수 없음    알 수 없음  \n",
              "4940                   떡           끓이기    알 수 없음  \n",
              "4941                  마늘            굽기        갈릭  \n",
              "\n",
              "[4942 rows x 19 columns]"
            ],
            "text/html": [
              "\n",
              "  <div id=\"df-9a36c0c9-f3c2-43df-8e50-0212b92c095d\" class=\"colab-df-container\">\n",
              "    <div>\n",
              "<style scoped>\n",
              "    .dataframe tbody tr th:only-of-type {\n",
              "        vertical-align: middle;\n",
              "    }\n",
              "\n",
              "    .dataframe tbody tr th {\n",
              "        vertical-align: top;\n",
              "    }\n",
              "\n",
              "    .dataframe thead th {\n",
              "        text-align: right;\n",
              "    }\n",
              "</style>\n",
              "<table border=\"1\" class=\"dataframe\">\n",
              "  <thead>\n",
              "    <tr style=\"text-align: right;\">\n",
              "      <th></th>\n",
              "      <th>code</th>\n",
              "      <th>name</th>\n",
              "      <th>mainFoodType</th>\n",
              "      <th>detailedFoodType</th>\n",
              "      <th>servingSize</th>\n",
              "      <th>calorie</th>\n",
              "      <th>protein</th>\n",
              "      <th>fat</th>\n",
              "      <th>carbohydrate</th>\n",
              "      <th>sugar</th>\n",
              "      <th>sodium</th>\n",
              "      <th>cholesterol</th>\n",
              "      <th>saturatedFattyAcid</th>\n",
              "      <th>transFattyAcid</th>\n",
              "      <th>taste</th>\n",
              "      <th>mainIngredient</th>\n",
              "      <th>secondaryIngredient</th>\n",
              "      <th>cookingMethod</th>\n",
              "      <th>allergens</th>\n",
              "    </tr>\n",
              "  </thead>\n",
              "  <tbody>\n",
              "    <tr>\n",
              "      <th>0</th>\n",
              "      <td>D018000</td>\n",
              "      <td>가래떡</td>\n",
              "      <td>곡류 및 서류</td>\n",
              "      <td>떡류</td>\n",
              "      <td>100</td>\n",
              "      <td>195.16</td>\n",
              "      <td>3.92</td>\n",
              "      <td>0.51</td>\n",
              "      <td>43.73</td>\n",
              "      <td>0.00</td>\n",
              "      <td>240.57</td>\n",
              "      <td>0.0</td>\n",
              "      <td>0.19</td>\n",
              "      <td>0.0</td>\n",
              "      <td>담백한맛</td>\n",
              "      <td>쌀</td>\n",
              "      <td>설탕</td>\n",
              "      <td>굽기</td>\n",
              "      <td>없음</td>\n",
              "    </tr>\n",
              "    <tr>\n",
              "      <th>1</th>\n",
              "      <td>D018001</td>\n",
              "      <td>깨송편</td>\n",
              "      <td>곡류 및 서류</td>\n",
              "      <td>떡류</td>\n",
              "      <td>100</td>\n",
              "      <td>219.01</td>\n",
              "      <td>4.65</td>\n",
              "      <td>3.23</td>\n",
              "      <td>42.83</td>\n",
              "      <td>1.98</td>\n",
              "      <td>259.75</td>\n",
              "      <td>0.0</td>\n",
              "      <td>0.62</td>\n",
              "      <td>0.0</td>\n",
              "      <td>단맛</td>\n",
              "      <td>깨</td>\n",
              "      <td>깨소금</td>\n",
              "      <td>굽기</td>\n",
              "      <td>깨</td>\n",
              "    </tr>\n",
              "    <tr>\n",
              "      <th>2</th>\n",
              "      <td>D018002</td>\n",
              "      <td>꿀떡</td>\n",
              "      <td>곡류 및 서류</td>\n",
              "      <td>떡류</td>\n",
              "      <td>100</td>\n",
              "      <td>228.48</td>\n",
              "      <td>3.74</td>\n",
              "      <td>1.73</td>\n",
              "      <td>49.48</td>\n",
              "      <td>0.29</td>\n",
              "      <td>275.08</td>\n",
              "      <td>0.0</td>\n",
              "      <td>0.30</td>\n",
              "      <td>0.0</td>\n",
              "      <td>단맛</td>\n",
              "      <td>쌀</td>\n",
              "      <td>꿀</td>\n",
              "      <td>찌기</td>\n",
              "      <td>없음</td>\n",
              "    </tr>\n",
              "    <tr>\n",
              "      <th>3</th>\n",
              "      <td>D018003</td>\n",
              "      <td>모듬찰떡</td>\n",
              "      <td>곡류 및 서류</td>\n",
              "      <td>떡류</td>\n",
              "      <td>100</td>\n",
              "      <td>218.16</td>\n",
              "      <td>6.78</td>\n",
              "      <td>2.44</td>\n",
              "      <td>42.27</td>\n",
              "      <td>2.98</td>\n",
              "      <td>187.83</td>\n",
              "      <td>0.0</td>\n",
              "      <td>0.28</td>\n",
              "      <td>0.0</td>\n",
              "      <td>단맛</td>\n",
              "      <td>쌀</td>\n",
              "      <td>설탕</td>\n",
              "      <td>끓이기</td>\n",
              "      <td>없음</td>\n",
              "    </tr>\n",
              "    <tr>\n",
              "      <th>4</th>\n",
              "      <td>D018004</td>\n",
              "      <td>백설기</td>\n",
              "      <td>곡류 및 서류</td>\n",
              "      <td>떡류</td>\n",
              "      <td>100</td>\n",
              "      <td>229.50</td>\n",
              "      <td>3.71</td>\n",
              "      <td>1.45</td>\n",
              "      <td>50.40</td>\n",
              "      <td>0.11</td>\n",
              "      <td>210.90</td>\n",
              "      <td>0.0</td>\n",
              "      <td>0.12</td>\n",
              "      <td>0.0</td>\n",
              "      <td>단맛</td>\n",
              "      <td>팥</td>\n",
              "      <td>팥</td>\n",
              "      <td>끓이기</td>\n",
              "      <td>없음</td>\n",
              "    </tr>\n",
              "    <tr>\n",
              "      <th>...</th>\n",
              "      <td>...</td>\n",
              "      <td>...</td>\n",
              "      <td>...</td>\n",
              "      <td>...</td>\n",
              "      <td>...</td>\n",
              "      <td>...</td>\n",
              "      <td>...</td>\n",
              "      <td>...</td>\n",
              "      <td>...</td>\n",
              "      <td>...</td>\n",
              "      <td>...</td>\n",
              "      <td>...</td>\n",
              "      <td>...</td>\n",
              "      <td>...</td>\n",
              "      <td>...</td>\n",
              "      <td>...</td>\n",
              "      <td>...</td>\n",
              "      <td>...</td>\n",
              "      <td>...</td>\n",
              "    </tr>\n",
              "    <tr>\n",
              "      <th>4937</th>\n",
              "      <td>D011185</td>\n",
              "      <td>아이스 바닐라 슈</td>\n",
              "      <td>기타</td>\n",
              "      <td>기타</td>\n",
              "      <td>38</td>\n",
              "      <td>374.00</td>\n",
              "      <td>4.00</td>\n",
              "      <td>4.00</td>\n",
              "      <td>7.00</td>\n",
              "      <td>8.00</td>\n",
              "      <td>138.00</td>\n",
              "      <td>NaN</td>\n",
              "      <td>17.00</td>\n",
              "      <td>NaN</td>\n",
              "      <td>단맛</td>\n",
              "      <td>바닐라</td>\n",
              "      <td>바닐라</td>\n",
              "      <td>굽기</td>\n",
              "      <td>없음</td>\n",
              "    </tr>\n",
              "    <tr>\n",
              "      <th>4938</th>\n",
              "      <td>D011186</td>\n",
              "      <td>아이스 초코 슈</td>\n",
              "      <td>기타</td>\n",
              "      <td>기타</td>\n",
              "      <td>38</td>\n",
              "      <td>410.00</td>\n",
              "      <td>4.00</td>\n",
              "      <td>4.00</td>\n",
              "      <td>7.00</td>\n",
              "      <td>11.00</td>\n",
              "      <td>130.00</td>\n",
              "      <td>NaN</td>\n",
              "      <td>15.00</td>\n",
              "      <td>NaN</td>\n",
              "      <td>단맛</td>\n",
              "      <td>초콜릿</td>\n",
              "      <td>초콜릿</td>\n",
              "      <td>굽기</td>\n",
              "      <td>초콜릿</td>\n",
              "    </tr>\n",
              "    <tr>\n",
              "      <th>4939</th>\n",
              "      <td>D012132</td>\n",
              "      <td>투썸뉴트리션바</td>\n",
              "      <td>기타</td>\n",
              "      <td>기타</td>\n",
              "      <td>30</td>\n",
              "      <td>125.00</td>\n",
              "      <td>6.00</td>\n",
              "      <td>10.00</td>\n",
              "      <td>20.00</td>\n",
              "      <td>7.00</td>\n",
              "      <td>50.00</td>\n",
              "      <td>NaN</td>\n",
              "      <td>0.50</td>\n",
              "      <td>NaN</td>\n",
              "      <td>단맛</td>\n",
              "      <td>초콜릿</td>\n",
              "      <td>초콜릿</td>\n",
              "      <td>알 수 없음</td>\n",
              "      <td>알 수 없음</td>\n",
              "    </tr>\n",
              "    <tr>\n",
              "      <th>4940</th>\n",
              "      <td>D016281</td>\n",
              "      <td>매콤김떡만</td>\n",
              "      <td>기타</td>\n",
              "      <td>기타</td>\n",
              "      <td>190</td>\n",
              "      <td>469.00</td>\n",
              "      <td>10.00</td>\n",
              "      <td>3.00</td>\n",
              "      <td>5.00</td>\n",
              "      <td>5.00</td>\n",
              "      <td>848.00</td>\n",
              "      <td>NaN</td>\n",
              "      <td>3.00</td>\n",
              "      <td>NaN</td>\n",
              "      <td>매운맛</td>\n",
              "      <td>채소류</td>\n",
              "      <td>떡</td>\n",
              "      <td>끓이기</td>\n",
              "      <td>알 수 없음</td>\n",
              "    </tr>\n",
              "    <tr>\n",
              "      <th>4941</th>\n",
              "      <td>D016282</td>\n",
              "      <td>갈릭김떡만</td>\n",
              "      <td>기타</td>\n",
              "      <td>기타</td>\n",
              "      <td>190</td>\n",
              "      <td>499.00</td>\n",
              "      <td>7.00</td>\n",
              "      <td>4.00</td>\n",
              "      <td>4.00</td>\n",
              "      <td>18.00</td>\n",
              "      <td>458.00</td>\n",
              "      <td>NaN</td>\n",
              "      <td>2.00</td>\n",
              "      <td>NaN</td>\n",
              "      <td>매운맛</td>\n",
              "      <td>채소류</td>\n",
              "      <td>마늘</td>\n",
              "      <td>굽기</td>\n",
              "      <td>갈릭</td>\n",
              "    </tr>\n",
              "  </tbody>\n",
              "</table>\n",
              "<p>4942 rows × 19 columns</p>\n",
              "</div>\n",
              "    <div class=\"colab-df-buttons\">\n",
              "\n",
              "  <div class=\"colab-df-container\">\n",
              "    <button class=\"colab-df-convert\" onclick=\"convertToInteractive('df-9a36c0c9-f3c2-43df-8e50-0212b92c095d')\"\n",
              "            title=\"Convert this dataframe to an interactive table.\"\n",
              "            style=\"display:none;\">\n",
              "\n",
              "  <svg xmlns=\"http://www.w3.org/2000/svg\" height=\"24px\" viewBox=\"0 -960 960 960\">\n",
              "    <path d=\"M120-120v-720h720v720H120Zm60-500h600v-160H180v160Zm220 220h160v-160H400v160Zm0 220h160v-160H400v160ZM180-400h160v-160H180v160Zm440 0h160v-160H620v160ZM180-180h160v-160H180v160Zm440 0h160v-160H620v160Z\"/>\n",
              "  </svg>\n",
              "    </button>\n",
              "\n",
              "  <style>\n",
              "    .colab-df-container {\n",
              "      display:flex;\n",
              "      gap: 12px;\n",
              "    }\n",
              "\n",
              "    .colab-df-convert {\n",
              "      background-color: #E8F0FE;\n",
              "      border: none;\n",
              "      border-radius: 50%;\n",
              "      cursor: pointer;\n",
              "      display: none;\n",
              "      fill: #1967D2;\n",
              "      height: 32px;\n",
              "      padding: 0 0 0 0;\n",
              "      width: 32px;\n",
              "    }\n",
              "\n",
              "    .colab-df-convert:hover {\n",
              "      background-color: #E2EBFA;\n",
              "      box-shadow: 0px 1px 2px rgba(60, 64, 67, 0.3), 0px 1px 3px 1px rgba(60, 64, 67, 0.15);\n",
              "      fill: #174EA6;\n",
              "    }\n",
              "\n",
              "    .colab-df-buttons div {\n",
              "      margin-bottom: 4px;\n",
              "    }\n",
              "\n",
              "    [theme=dark] .colab-df-convert {\n",
              "      background-color: #3B4455;\n",
              "      fill: #D2E3FC;\n",
              "    }\n",
              "\n",
              "    [theme=dark] .colab-df-convert:hover {\n",
              "      background-color: #434B5C;\n",
              "      box-shadow: 0px 1px 3px 1px rgba(0, 0, 0, 0.15);\n",
              "      filter: drop-shadow(0px 1px 2px rgba(0, 0, 0, 0.3));\n",
              "      fill: #FFFFFF;\n",
              "    }\n",
              "  </style>\n",
              "\n",
              "    <script>\n",
              "      const buttonEl =\n",
              "        document.querySelector('#df-9a36c0c9-f3c2-43df-8e50-0212b92c095d button.colab-df-convert');\n",
              "      buttonEl.style.display =\n",
              "        google.colab.kernel.accessAllowed ? 'block' : 'none';\n",
              "\n",
              "      async function convertToInteractive(key) {\n",
              "        const element = document.querySelector('#df-9a36c0c9-f3c2-43df-8e50-0212b92c095d');\n",
              "        const dataTable =\n",
              "          await google.colab.kernel.invokeFunction('convertToInteractive',\n",
              "                                                    [key], {});\n",
              "        if (!dataTable) return;\n",
              "\n",
              "        const docLinkHtml = 'Like what you see? Visit the ' +\n",
              "          '<a target=\"_blank\" href=https://colab.research.google.com/notebooks/data_table.ipynb>data table notebook</a>'\n",
              "          + ' to learn more about interactive tables.';\n",
              "        element.innerHTML = '';\n",
              "        dataTable['output_type'] = 'display_data';\n",
              "        await google.colab.output.renderOutput(dataTable, element);\n",
              "        const docLink = document.createElement('div');\n",
              "        docLink.innerHTML = docLinkHtml;\n",
              "        element.appendChild(docLink);\n",
              "      }\n",
              "    </script>\n",
              "  </div>\n",
              "\n",
              "\n",
              "<div id=\"df-84328380-7f43-496a-b76a-3f3632817ba8\">\n",
              "  <button class=\"colab-df-quickchart\" onclick=\"quickchart('df-84328380-7f43-496a-b76a-3f3632817ba8')\"\n",
              "            title=\"Suggest charts\"\n",
              "            style=\"display:none;\">\n",
              "\n",
              "<svg xmlns=\"http://www.w3.org/2000/svg\" height=\"24px\"viewBox=\"0 0 24 24\"\n",
              "     width=\"24px\">\n",
              "    <g>\n",
              "        <path d=\"M19 3H5c-1.1 0-2 .9-2 2v14c0 1.1.9 2 2 2h14c1.1 0 2-.9 2-2V5c0-1.1-.9-2-2-2zM9 17H7v-7h2v7zm4 0h-2V7h2v10zm4 0h-2v-4h2v4z\"/>\n",
              "    </g>\n",
              "</svg>\n",
              "  </button>\n",
              "\n",
              "<style>\n",
              "  .colab-df-quickchart {\n",
              "      --bg-color: #E8F0FE;\n",
              "      --fill-color: #1967D2;\n",
              "      --hover-bg-color: #E2EBFA;\n",
              "      --hover-fill-color: #174EA6;\n",
              "      --disabled-fill-color: #AAA;\n",
              "      --disabled-bg-color: #DDD;\n",
              "  }\n",
              "\n",
              "  [theme=dark] .colab-df-quickchart {\n",
              "      --bg-color: #3B4455;\n",
              "      --fill-color: #D2E3FC;\n",
              "      --hover-bg-color: #434B5C;\n",
              "      --hover-fill-color: #FFFFFF;\n",
              "      --disabled-bg-color: #3B4455;\n",
              "      --disabled-fill-color: #666;\n",
              "  }\n",
              "\n",
              "  .colab-df-quickchart {\n",
              "    background-color: var(--bg-color);\n",
              "    border: none;\n",
              "    border-radius: 50%;\n",
              "    cursor: pointer;\n",
              "    display: none;\n",
              "    fill: var(--fill-color);\n",
              "    height: 32px;\n",
              "    padding: 0;\n",
              "    width: 32px;\n",
              "  }\n",
              "\n",
              "  .colab-df-quickchart:hover {\n",
              "    background-color: var(--hover-bg-color);\n",
              "    box-shadow: 0 1px 2px rgba(60, 64, 67, 0.3), 0 1px 3px 1px rgba(60, 64, 67, 0.15);\n",
              "    fill: var(--button-hover-fill-color);\n",
              "  }\n",
              "\n",
              "  .colab-df-quickchart-complete:disabled,\n",
              "  .colab-df-quickchart-complete:disabled:hover {\n",
              "    background-color: var(--disabled-bg-color);\n",
              "    fill: var(--disabled-fill-color);\n",
              "    box-shadow: none;\n",
              "  }\n",
              "\n",
              "  .colab-df-spinner {\n",
              "    border: 2px solid var(--fill-color);\n",
              "    border-color: transparent;\n",
              "    border-bottom-color: var(--fill-color);\n",
              "    animation:\n",
              "      spin 1s steps(1) infinite;\n",
              "  }\n",
              "\n",
              "  @keyframes spin {\n",
              "    0% {\n",
              "      border-color: transparent;\n",
              "      border-bottom-color: var(--fill-color);\n",
              "      border-left-color: var(--fill-color);\n",
              "    }\n",
              "    20% {\n",
              "      border-color: transparent;\n",
              "      border-left-color: var(--fill-color);\n",
              "      border-top-color: var(--fill-color);\n",
              "    }\n",
              "    30% {\n",
              "      border-color: transparent;\n",
              "      border-left-color: var(--fill-color);\n",
              "      border-top-color: var(--fill-color);\n",
              "      border-right-color: var(--fill-color);\n",
              "    }\n",
              "    40% {\n",
              "      border-color: transparent;\n",
              "      border-right-color: var(--fill-color);\n",
              "      border-top-color: var(--fill-color);\n",
              "    }\n",
              "    60% {\n",
              "      border-color: transparent;\n",
              "      border-right-color: var(--fill-color);\n",
              "    }\n",
              "    80% {\n",
              "      border-color: transparent;\n",
              "      border-right-color: var(--fill-color);\n",
              "      border-bottom-color: var(--fill-color);\n",
              "    }\n",
              "    90% {\n",
              "      border-color: transparent;\n",
              "      border-bottom-color: var(--fill-color);\n",
              "    }\n",
              "  }\n",
              "</style>\n",
              "\n",
              "  <script>\n",
              "    async function quickchart(key) {\n",
              "      const quickchartButtonEl =\n",
              "        document.querySelector('#' + key + ' button');\n",
              "      quickchartButtonEl.disabled = true;  // To prevent multiple clicks.\n",
              "      quickchartButtonEl.classList.add('colab-df-spinner');\n",
              "      try {\n",
              "        const charts = await google.colab.kernel.invokeFunction(\n",
              "            'suggestCharts', [key], {});\n",
              "      } catch (error) {\n",
              "        console.error('Error during call to suggestCharts:', error);\n",
              "      }\n",
              "      quickchartButtonEl.classList.remove('colab-df-spinner');\n",
              "      quickchartButtonEl.classList.add('colab-df-quickchart-complete');\n",
              "    }\n",
              "    (() => {\n",
              "      let quickchartButtonEl =\n",
              "        document.querySelector('#df-84328380-7f43-496a-b76a-3f3632817ba8 button');\n",
              "      quickchartButtonEl.style.display =\n",
              "        google.colab.kernel.accessAllowed ? 'block' : 'none';\n",
              "    })();\n",
              "  </script>\n",
              "</div>\n",
              "\n",
              "  <div id=\"id_8fc2abf5-3f83-4f8d-b61a-4e79b62d2d7d\">\n",
              "    <style>\n",
              "      .colab-df-generate {\n",
              "        background-color: #E8F0FE;\n",
              "        border: none;\n",
              "        border-radius: 50%;\n",
              "        cursor: pointer;\n",
              "        display: none;\n",
              "        fill: #1967D2;\n",
              "        height: 32px;\n",
              "        padding: 0 0 0 0;\n",
              "        width: 32px;\n",
              "      }\n",
              "\n",
              "      .colab-df-generate:hover {\n",
              "        background-color: #E2EBFA;\n",
              "        box-shadow: 0px 1px 2px rgba(60, 64, 67, 0.3), 0px 1px 3px 1px rgba(60, 64, 67, 0.15);\n",
              "        fill: #174EA6;\n",
              "      }\n",
              "\n",
              "      [theme=dark] .colab-df-generate {\n",
              "        background-color: #3B4455;\n",
              "        fill: #D2E3FC;\n",
              "      }\n",
              "\n",
              "      [theme=dark] .colab-df-generate:hover {\n",
              "        background-color: #434B5C;\n",
              "        box-shadow: 0px 1px 3px 1px rgba(0, 0, 0, 0.15);\n",
              "        filter: drop-shadow(0px 1px 2px rgba(0, 0, 0, 0.3));\n",
              "        fill: #FFFFFF;\n",
              "      }\n",
              "    </style>\n",
              "    <button class=\"colab-df-generate\" onclick=\"generateWithVariable('df')\"\n",
              "            title=\"Generate code using this dataframe.\"\n",
              "            style=\"display:none;\">\n",
              "\n",
              "  <svg xmlns=\"http://www.w3.org/2000/svg\" height=\"24px\"viewBox=\"0 0 24 24\"\n",
              "       width=\"24px\">\n",
              "    <path d=\"M7,19H8.4L18.45,9,17,7.55,7,17.6ZM5,21V16.75L18.45,3.32a2,2,0,0,1,2.83,0l1.4,1.43a1.91,1.91,0,0,1,.58,1.4,1.91,1.91,0,0,1-.58,1.4L9.25,21ZM18.45,9,17,7.55Zm-12,3A5.31,5.31,0,0,0,4.9,8.1,5.31,5.31,0,0,0,1,6.5,5.31,5.31,0,0,0,4.9,4.9,5.31,5.31,0,0,0,6.5,1,5.31,5.31,0,0,0,8.1,4.9,5.31,5.31,0,0,0,12,6.5,5.46,5.46,0,0,0,6.5,12Z\"/>\n",
              "  </svg>\n",
              "    </button>\n",
              "    <script>\n",
              "      (() => {\n",
              "      const buttonEl =\n",
              "        document.querySelector('#id_8fc2abf5-3f83-4f8d-b61a-4e79b62d2d7d button.colab-df-generate');\n",
              "      buttonEl.style.display =\n",
              "        google.colab.kernel.accessAllowed ? 'block' : 'none';\n",
              "\n",
              "      buttonEl.onclick = () => {\n",
              "        google.colab.notebook.generateWithVariable('df');\n",
              "      }\n",
              "      })();\n",
              "    </script>\n",
              "  </div>\n",
              "\n",
              "    </div>\n",
              "  </div>\n"
            ]
          },
          "metadata": {},
          "execution_count": 24
        }
      ]
    },
    {
      "cell_type": "code",
      "source": [
        "import numpy as np\n",
        "\n",
        "unique_main_ingredients = np.unique(df['mainIngredient'])\n",
        "unique_main_ingredients"
      ],
      "metadata": {
        "colab": {
          "base_uri": "https://localhost:8080/"
        },
        "id": "_9GV5fZZzOC-",
        "outputId": "be61b944-afff-451b-f96a-66cc918ffa8a"
      },
      "execution_count": null,
      "outputs": [
        {
          "output_type": "execute_result",
          "data": {
            "text/plain": [
              "array(['가금류', '가금류 이외 육류', '견과류', '계란', '곡물', '과일류', '나물류', '당류', '두부',\n",
              "       '마라', '면', '묵류', '밀가루', '버섯류', '샌드위치', '쌀', '알 수 없음', '알코올', '유제품',\n",
              "       '장류', '차류', '채소류', '초콜릿', '치즈', '커리', '커피', '해산물', '해조류', '향신료'],\n",
              "      dtype=object)"
            ]
          },
          "metadata": {},
          "execution_count": 227
        }
      ]
    },
    {
      "cell_type": "code",
      "source": [
        "new_columns = {'cookingMethod': 'cookMethod'}\n",
        "df = df.rename(columns=new_columns)\n",
        "\n",
        "# 변경된 데이터 프레임 출력\n",
        "df"
      ],
      "metadata": {
        "id": "a-79JP9o1QH-"
      },
      "execution_count": null,
      "outputs": []
    },
    {
      "cell_type": "code",
      "source": [
        "veggie_list=['밀푀유','감자','호박잎','마늘','새싹채소','브로콜리','우엉','우거지','오이','구마','단무지','단호박','락교','민들레잎','숙주','콜라비','파','토마토','토란','채소','비타민','연근','옥수수','올리브','알로에','아보카도','밤','도토리']\n",
        "df.loc[df['mainIngredient'].isin(veggie_list), 'mainIngredient'] = '채소류'"
      ],
      "metadata": {
        "id": "KyCTd8hI19Vj"
      },
      "execution_count": null,
      "outputs": []
    },
    {
      "cell_type": "code",
      "source": [
        "veggie_list=['냉면','당면','스파게티','파스타','펜네','우동면','국수','잡채']\n",
        "df.loc[df['mainIngredient'].isin(veggie_list), 'mainIngredient'] = '면'"
      ],
      "metadata": {
        "id": "DSt6Oarr2bZn"
      },
      "execution_count": null,
      "outputs": []
    },
    {
      "cell_type": "code",
      "source": [
        "veggie_list=['곰','멸치','바지락','쥐포','달팽이','굴', '굴비','임연수','어묵','올갱이','양미리','알','맛살','오뎅','꽃맛살','참치, 김치','']\n",
        "df.loc[df['mainIngredient'].isin(veggie_list), 'mainIngredient'] = '해산물'"
      ],
      "metadata": {
        "id": "0218agtW2rpB"
      },
      "execution_count": null,
      "outputs": []
    },
    {
      "cell_type": "code",
      "source": [
        "veggie_list=['호박오가리','무시래기','토란대','노각','머위','비름','치피']\n",
        "df.loc[df['mainIngredient'].isin(veggie_list), 'mainIngredient'] = '나물류'"
      ],
      "metadata": {
        "id": "8yQOXgJX2rgr"
      },
      "execution_count": null,
      "outputs": []
    },
    {
      "cell_type": "code",
      "source": [
        "veggie_list=['현무암','라디코니', '라우겐', '레즌', '로만밀','비스킷','효모','맘모스']\n",
        "df.loc[df['mainIngredient'].isin(veggie_list), 'mainIngredient'] = '밀가루'"
      ],
      "metadata": {
        "id": "Y4QNuMGG3Cwm"
      },
      "execution_count": null,
      "outputs": []
    },
    {
      "cell_type": "code",
      "source": [
        "veggie_list=['유자','라임','과일','대추']\n",
        "df.loc[df['mainIngredient'].isin(veggie_list), 'mainIngredient'] = '과일류'"
      ],
      "metadata": {
        "id": "U0UowiLU33MM"
      },
      "execution_count": null,
      "outputs": []
    },
    {
      "cell_type": "code",
      "source": [
        "veggie_list=['와인','맥아']\n",
        "df.loc[df['mainIngredient'].isin(veggie_list), 'mainIngredient'] = '알코올'"
      ],
      "metadata": {
        "id": "GOf0xTHM4qsY"
      },
      "execution_count": null,
      "outputs": []
    },
    {
      "cell_type": "code",
      "source": [
        "veggie_list=['가금류']\n",
        "df.loc[df['mainIngredient'].isin(veggie_list), 'mainIngredient'] = '커피'"
      ],
      "metadata": {
        "id": "z8sqi0_g5Svf"
      },
      "execution_count": null,
      "outputs": []
    },
    {
      "cell_type": "code",
      "source": [
        "veggie_list=['메추리알','목초란']\n",
        "df.loc[df['mainIngredient'].isin(veggie_list), 'mainIngredient'] = '계란'"
      ],
      "metadata": {
        "id": "rArQyuZN5aVz"
      },
      "execution_count": null,
      "outputs": []
    },
    {
      "cell_type": "code",
      "source": [
        "veggie_list=['밥', '김밥','떡','인절미']\n",
        "df.loc[df['mainIngredient'].isin(veggie_list), 'mainIngredient'] = '쌀'"
      ],
      "metadata": {
        "id": "8V7U38r35118"
      },
      "execution_count": null,
      "outputs": []
    },
    {
      "cell_type": "code",
      "source": [
        "veggie_list=['검은콩','녹두','기장','미숫가루','현미', '흑미', '흑임자','팥','통곡물','퀴노아','잡곡','보리','오트밀','콩','메밀','녹말','둘깨', '들깨','단팥','참깨','완두','오곡','부꾸미','수수','깨']\n",
        "df.loc[df['mainIngredient'].isin(veggie_list), 'mainIngredient'] = '곡물'"
      ],
      "metadata": {
        "id": "tN5ztVqd6BGl"
      },
      "execution_count": null,
      "outputs": []
    },
    {
      "cell_type": "code",
      "source": [
        "veggie_list=['단백질','버터','미크스','반하나','요거트','우유','아이스크림','생크림','연유','빙수','크림','얼음']\n",
        "df.loc[df['mainIngredient'].isin(veggie_list), 'mainIngredient'] = '유제품'"
      ],
      "metadata": {
        "id": "b4SSXbmn6V5o"
      },
      "execution_count": null,
      "outputs": []
    },
    {
      "cell_type": "code",
      "source": [
        "veggie_list=['레드벨벳','머스카포네']\n",
        "df.loc[df['mainIngredient'].isin(veggie_list), 'mainIngredient'] = '치즈'"
      ],
      "metadata": {
        "id": "Yk2uwUr-6viz"
      },
      "execution_count": null,
      "outputs": []
    },
    {
      "cell_type": "code",
      "source": [
        "veggie_list=['헤이즐넛','피칸','잣','땅콩']\n",
        "df.loc[df['mainIngredient'].isin(veggie_list), 'mainIngredient'] = '견과류'"
      ],
      "metadata": {
        "id": "5FbB4fsDP4n8"
      },
      "execution_count": null,
      "outputs": []
    },
    {
      "cell_type": "code",
      "source": [
        "df['mainIngredient'] = np.where(df['mainIngredient'].str.contains('순대'), '순대', df['mainIngredient'])"
      ],
      "metadata": {
        "id": "6x2V6JOrRhoS"
      },
      "execution_count": null,
      "outputs": []
    },
    {
      "cell_type": "code",
      "source": [
        "veggie_list=['춘장','된장','미소시루','청국장']\n",
        "df.loc[df['mainIngredient'].isin(veggie_list), 'mainIngredient'] = '장류'"
      ],
      "metadata": {
        "id": "UcHM3C69Spkr"
      },
      "execution_count": null,
      "outputs": []
    },
    {
      "cell_type": "code",
      "source": [
        "veggie_list=['녹차','라벤더', '로즈마리', '루이보스','마차', '마테','우롱차','자스민','차', '차나무', '차엽','차이티', '차잎','카모마일', '캐모마일','타로', '티', '페퍼민트','허브', '홍차', '히비스커스','얼그레이','꽃','시트러스','아이스티']\n",
        "df.loc[df['mainIngredient'].isin(veggie_list), 'mainIngredient'] = '차류'"
      ],
      "metadata": {
        "id": "2X1Y6WRDTLt5"
      },
      "execution_count": null,
      "outputs": []
    },
    {
      "cell_type": "code",
      "source": [
        "veggie_list=['머쉬룸','트러플','버섯']\n",
        "df.loc[df['mainIngredient'].isin(veggie_list), 'mainIngredient'] = '버섯류'"
      ],
      "metadata": {
        "id": "Kx29k9_sVHX6"
      },
      "execution_count": null,
      "outputs": []
    },
    {
      "cell_type": "code",
      "source": [
        "veggie_list=['곤약','도토리묵','메밀묵','묵','청포묵',]\n",
        "df.loc[df['mainIngredient'].isin(veggie_list), 'mainIngredient'] = '묵류'"
      ],
      "metadata": {
        "id": "IqpLD4CQVHSt"
      },
      "execution_count": null,
      "outputs": []
    },
    {
      "cell_type": "code",
      "source": [
        "veggie_list=['사골','선지','수육','햄버거','버거', '버거패티','도가니','곱창']\n",
        "df.loc[df['mainIngredient'].isin(veggie_list), 'mainIngredient'] = '소'"
      ],
      "metadata": {
        "id": "D9PW8JJaWZLo"
      },
      "execution_count": null,
      "outputs": []
    },
    {
      "cell_type": "code",
      "source": [
        "veggie_list=['순대','햄','페페로니','살라미']\n",
        "df.loc[df['mainIngredient'].isin(veggie_list), 'mainIngredient'] = '돼지'"
      ],
      "metadata": {
        "id": "lXQTYRudWZVb"
      },
      "execution_count": null,
      "outputs": []
    },
    {
      "cell_type": "code",
      "source": [
        "veggie_list=['덕','부대찌개']\n",
        "df.loc[df['mainIngredient'].isin(veggie_list), 'mainIngredient'] = '소세지'"
      ],
      "metadata": {
        "id": "utGJKR2wXUbT"
      },
      "execution_count": null,
      "outputs": []
    },
    {
      "cell_type": "code",
      "source": [
        "veggie_list=['민트','바닐라','바질','시나몬']\n",
        "df.loc[df['mainIngredient'].isin(veggie_list), 'mainIngredient'] = '향신료'"
      ],
      "metadata": {
        "id": "5KXJKIWbZad0"
      },
      "execution_count": null,
      "outputs": []
    },
    {
      "cell_type": "code",
      "source": [
        "veggie_list=['솜사탕','꿀','비스코프','소다','카라멜','설탕']\n",
        "df.loc[df['mainIngredient'].isin(veggie_list), 'mainIngredient'] = '당류'"
      ],
      "metadata": {
        "id": "jrOxZQ66ZrZa"
      },
      "execution_count": null,
      "outputs": []
    },
    {
      "cell_type": "code",
      "source": [
        "veggie_list=['타피오카']\n",
        "df.loc[df['mainIngredient'].isin(veggie_list), 'mainIngredient'] = '커피'"
      ],
      "metadata": {
        "id": "5l8Lj4ruaBW4"
      },
      "execution_count": null,
      "outputs": []
    },
    {
      "cell_type": "code",
      "source": [
        "veggie_list=['닭','모래집','꿩','터키','오리']\n",
        "df.loc[df['mainIngredient'].isin(veggie_list), 'mainIngredient'] = '가금류'"
      ],
      "metadata": {
        "id": "2TU1tBZjaVUU"
      },
      "execution_count": null,
      "outputs": []
    },
    {
      "cell_type": "code",
      "source": [
        "veggie_list=['유부','비지']\n",
        "df.loc[df['mainIngredient'].isin(veggie_list), 'mainIngredient'] = '두부'"
      ],
      "metadata": {
        "id": "jGeLhR9gahBr"
      },
      "execution_count": null,
      "outputs": []
    },
    {
      "cell_type": "code",
      "source": [
        "veggie_list=['고기','갈비','내장','뼈','만두피','만두','돼지','소','브리또','소세지','육류']\n",
        "df.loc[df['mainIngredient'].isin(veggie_list), 'mainIngredient'] = '가금류 이외 육류'"
      ],
      "metadata": {
        "id": "VbWhqE1ualty"
      },
      "execution_count": null,
      "outputs": []
    },
    {
      "cell_type": "code",
      "source": [
        "df.to_csv('/content/drive/MyDrive/final_DB_really.csv', index=False)"
      ],
      "metadata": {
        "id": "REITeRcrcmdf"
      },
      "execution_count": null,
      "outputs": []
    },
    {
      "cell_type": "code",
      "source": [],
      "metadata": {
        "id": "RoDrOkTHcvFB"
      },
      "execution_count": null,
      "outputs": []
    }
  ]
}